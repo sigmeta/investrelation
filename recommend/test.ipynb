{
 "cells": [
  {
   "cell_type": "code",
   "execution_count": 1,
   "metadata": {
    "collapsed": true
   },
   "outputs": [],
   "source": [
    "import requests\n",
    "import json\n",
    "import time"
   ]
  },
  {
   "cell_type": "code",
   "execution_count": 2,
   "metadata": {
    "collapsed": true
   },
   "outputs": [],
   "source": [
    "with open(\"data/projects.json\",encoding='utf8') as f:\n",
    "    dic=json.loads(f.read())"
   ]
  },
  {
   "cell_type": "code",
   "execution_count": 3,
   "metadata": {
    "collapsed": true,
    "scrolled": true
   },
   "outputs": [],
   "source": [
    "inv_nums=[]\n",
    "for k in dic.keys():\n",
    "    inv_nums.append(len(dic[k]['investments']))"
   ]
  },
  {
   "cell_type": "code",
   "execution_count": 22,
   "metadata": {},
   "outputs": [
    {
     "name": "stdout",
     "output_type": "stream",
     "text": [
      "7183\n"
     ]
    }
   ],
   "source": [
    "count=0\n",
    "for i in inv_nums:\n",
    "    if i>1:\n",
    "        count+=1\n",
    "print(count)"
   ]
  },
  {
   "cell_type": "code",
   "execution_count": 20,
   "metadata": {},
   "outputs": [
    {
     "data": {
      "text/html": [
       "<script>\n",
       "    require.config({\n",
       "         paths:{\n",
       "           'echarts': '/nbextensions/echarts/echarts.min'\n",
       "         }\n",
       "    });\n",
       "</script>\n",
       "<div id=\"a1a03c047f8d40c69ca11c351b420064\" style=\"width:800px; height:400px;\"></div>\n",
       "\n",
       "<script>\n",
       "    require([ 'echarts' ],function(ec){\n",
       "\tvar myChart = ec.init(document.getElementById('a1a03c047f8d40c69ca11c351b420064'));\n",
       "var option =  {\n",
       "    \"tooltip\": {\n",
       "        \"formatter\": null,\n",
       "        \"trigger\": \"item\",\n",
       "        \"textStyle\": {\n",
       "            \"color\": \"#fff\",\n",
       "            \"fontSize\": 14\n",
       "        },\n",
       "        \"triggerOn\": \"mousemove|click\",\n",
       "        \"axisPointer\": {\n",
       "            \"type\": \"line\"\n",
       "        }\n",
       "    },\n",
       "    \"backgroundColor\": \"#fff\",\n",
       "    \"series_id\": 8433895,\n",
       "    \"title\": [\n",
       "        {\n",
       "            \"text\": \"\\u6295\\u8d44\\u6570\\u91cf\\u7edf\\u8ba1\",\n",
       "            \"subtextStyle\": {\n",
       "                \"color\": \"#aaa\",\n",
       "                \"fontSize\": 12\n",
       "            },\n",
       "            \"textStyle\": {\n",
       "                \"color\": \"#000\",\n",
       "                \"fontSize\": 18\n",
       "            },\n",
       "            \"subtext\": \"\",\n",
       "            \"left\": \"center\",\n",
       "            \"top\": \"auto\"\n",
       "        }\n",
       "    ],\n",
       "    \"color\": [\n",
       "        \"#c23531\",\n",
       "        \"#2f4554\",\n",
       "        \"#61a0a8\",\n",
       "        \"#d48265\",\n",
       "        \"#749f83\",\n",
       "        \"#ca8622\",\n",
       "        \"#bda29a\",\n",
       "        \"#6e7074\",\n",
       "        \"#546570\",\n",
       "        \"#c4ccd3\",\n",
       "        \"#f05b72\",\n",
       "        \"#ef5b9c\",\n",
       "        \"#f47920\",\n",
       "        \"#905a3d\",\n",
       "        \"#fab27b\",\n",
       "        \"#2a5caa\",\n",
       "        \"#444693\",\n",
       "        \"#726930\",\n",
       "        \"#b2d235\",\n",
       "        \"#6d8346\",\n",
       "        \"#ac6767\",\n",
       "        \"#1d953f\",\n",
       "        \"#6950a1\",\n",
       "        \"#918597\",\n",
       "        \"#f6f5ec\"\n",
       "    ],\n",
       "    \"series\": [\n",
       "        {\n",
       "            \"seriesId\": 8433895,\n",
       "            \"radius\": [\n",
       "                \"40%\",\n",
       "                \"75%\"\n",
       "            ],\n",
       "            \"roseType\": null,\n",
       "            \"center\": [\n",
       "                \"50%\",\n",
       "                \"50%\"\n",
       "            ],\n",
       "            \"label\": {\n",
       "                \"emphasis\": {\n",
       "                    \"show\": true,\n",
       "                    \"textStyle\": {\n",
       "                        \"color\": \"#fff\",\n",
       "                        \"fontSize\": 12\n",
       "                    },\n",
       "                    \"position\": null\n",
       "                },\n",
       "                \"normal\": {\n",
       "                    \"formatter\": \"{b}: {d}%\",\n",
       "                    \"show\": true,\n",
       "                    \"textStyle\": {\n",
       "                        \"color\": null,\n",
       "                        \"fontSize\": 12\n",
       "                    },\n",
       "                    \"position\": \"outside\"\n",
       "                }\n",
       "            },\n",
       "            \"data\": [\n",
       "                {\n",
       "                    \"value\": 37892,\n",
       "                    \"name\": \"0\"\n",
       "                },\n",
       "                {\n",
       "                    \"value\": 7924,\n",
       "                    \"name\": \"1\"\n",
       "                },\n",
       "                {\n",
       "                    \"value\": 2428,\n",
       "                    \"name\": \"2\"\n",
       "                },\n",
       "                {\n",
       "                    \"value\": 2471,\n",
       "                    \"name\": \"3-5\"\n",
       "                },\n",
       "                {\n",
       "                    \"value\": 1156,\n",
       "                    \"name\": \"5-10\"\n",
       "                },\n",
       "                {\n",
       "                    \"value\": 1128,\n",
       "                    \"name\": \"10\\u4ee5\\u4e0a\"\n",
       "                }\n",
       "            ],\n",
       "            \"type\": \"pie\",\n",
       "            \"name\": \"\"\n",
       "        }\n",
       "    ],\n",
       "    \"toolbox\": {\n",
       "        \"orient\": \"vertical\",\n",
       "        \"left\": \"95%\",\n",
       "        \"show\": true,\n",
       "        \"feature\": {\n",
       "            \"saveAsImage\": {\n",
       "                \"title\": \"\\u4e0b\\u8f7d\\u56fe\\u7247\",\n",
       "                \"show\": true\n",
       "            },\n",
       "            \"restore\": {\n",
       "                \"show\": true\n",
       "            },\n",
       "            \"dataView\": {\n",
       "                \"show\": true\n",
       "            }\n",
       "        },\n",
       "        \"top\": \"center\"\n",
       "    },\n",
       "    \"legend\": [\n",
       "        {\n",
       "            \"orient\": \"vertical\",\n",
       "            \"selectedMode\": \"multiple\",\n",
       "            \"show\": true,\n",
       "            \"textStyle\": {\n",
       "                \"color\": \"#333\",\n",
       "                \"fontSize\": 12\n",
       "            },\n",
       "            \"left\": \"left\",\n",
       "            \"data\": [\n",
       "                \"0\",\n",
       "                \"1\",\n",
       "                \"2\",\n",
       "                \"3-5\",\n",
       "                \"5-10\",\n",
       "                \"10\\u4ee5\\u4e0a\"\n",
       "            ],\n",
       "            \"top\": \"top\"\n",
       "        }\n",
       "    ]\n",
       "};\n",
       "myChart.setOption(option);\n",
       "\n",
       "    });\n",
       "</script>\n"
      ],
      "text/plain": [
       "<pyecharts.charts.pie.Pie at 0x209c8453550>"
      ]
     },
     "execution_count": 20,
     "metadata": {},
     "output_type": "execute_result"
    }
   ],
   "source": [
    "from pyecharts import Pie\n",
    "\n",
    "attr = [\"0\", \"1\", \"2\", \"3-5\", \"5-10\", \"10以上\"]\n",
    "v1 = [37892, 7924, 2428, 2471, 1156, 1128]\n",
    "pie = Pie(\"投资数量统计\", title_pos='center')\n",
    "pie.add(\"\", attr, v1, radius=[40, 75], label_text_color=None,\n",
    "        is_label_show=True, legend_orient='vertical',\n",
    "        legend_pos='left')\n",
    "pie"
   ]
  },
  {
   "cell_type": "code",
   "execution_count": 7,
   "metadata": {},
   "outputs": [
    {
     "data": {
      "text/plain": [
       "39733"
      ]
     },
     "execution_count": 7,
     "metadata": {},
     "output_type": "execute_result"
    }
   ],
   "source": [
    "dic[\"1\"]['investments'][0]['project']['cid']"
   ]
  },
  {
   "cell_type": "code",
   "execution_count": 43,
   "metadata": {},
   "outputs": [
    {
     "data": {
      "text/plain": [
       "52999"
      ]
     },
     "execution_count": 43,
     "metadata": {},
     "output_type": "execute_result"
    }
   ],
   "source": [
    "len(dic.keys())"
   ]
  },
  {
   "cell_type": "code",
   "execution_count": 18,
   "metadata": {},
   "outputs": [
    {
     "data": {
      "text/plain": [
       "{'enName': 'IDG Capital Investment Consultants (Beijing) Co. Ltd',\n",
       " 'enNameAbbr': 'IDG Capital Partners',\n",
       " 'id': 51,\n",
       " 'logo': 'https://krplus-pic.b0.upaiyun.com/201705/18/77f18c7daa2433f1ce9c6cbfabe8aaec.png',\n",
       " 'name': 'IDG资本投资顾问（北京）有限公司',\n",
       " 'nameAbbr': 'IDG资本'}"
      ]
     },
     "execution_count": 18,
     "metadata": {},
     "output_type": "execute_result"
    }
   ],
   "source": [
    "dic[\"data\"][\"org\"]"
   ]
  },
  {
   "cell_type": "code",
   "execution_count": 12,
   "metadata": {
    "collapsed": true
   },
   "outputs": [],
   "source": [
    "coo=\"MEIQIA_EXTRA_TRACK_ID=0vLskrXjYhcSdi2BElXfzdTMzNc; acw_tc=AQAAAG3pw0dEdwgAhu9pov3SvdqMnSlp; kr_stat_uuid=QhfXK25432517; Hm_lvt_e8ec47088ed7458ec32cde3617b23ee3=1525950867,1525950968; Hm_lpvt_e8ec47088ed7458ec32cde3617b23ee3=1525951039; download_animation=1; _kr_p_se=aed02698-eca5-4073-ba79-029a309a20dc; krid_user_id=633917108; krid_user_version=4; kr_plus_id=633917108; kr_plus_token=1xZ3_1oXfuJhf9Tbth9wBlJZqKlMVQ9b246_2___; kr_plus_utype=0; Z-XSRF-TOKEN=eyJpdiI6IjlNXC83Y1h0bUhwXC9Ub1dPT0FadG9QUT09IiwidmFsdWUiOiJcLzhcLys0c2xpUDRQdlVURDVVUjVPWUNlbG9WbTk0TlpzcWNUSVwvc3ZYS1dzTk5HbkFZUmdvMnBjZ0lRXC9FeWlKRHFtczZ1MUhyeitQb1pqQVlrK0NOYXc9PSIsIm1hYyI6IjAxODI0YjBlZjc1YzNjMmMwMzYwODhlY2QwODk1NjE1NjM2NWFjNDRjZmUxYThiYjQ2ZGZhOTUyNTkzNWY4ZTUifQ%3D%3D; krchoasss=eyJpdiI6IlVkZVJtNzdhenJJOU02V0ZEVEZXbnc9PSIsInZhbHVlIjoiVTV1c0Z2eTRQWFBNK3FVSnA1YlpGSVV3R0tiYVo0OVdZc2pyeUZ4QWMzRG00WFwvYjFcL2gwZk5wNWpOV0ErdnRGbkdrc2p2TDVmTWIyUGx4cXdwZ2ttUT09IiwibWFjIjoiY2FmMDAwMjNkNmFjNTZhZWFmZDVmYWM3MDM2Yzg5YTFjMDI3MzNjZWVhZjAxZDAwZWZlOThhNTIxMDRlZWE0NyJ9\""
   ]
  },
  {
   "cell_type": "code",
   "execution_count": 13,
   "metadata": {
    "collapsed": true
   },
   "outputs": [],
   "source": [
    "cookies={}\n",
    "for c in coo.split(';'):\n",
    "    k,v=c.split('=',1)\n",
    "    cookies[k]=v"
   ]
  },
  {
   "cell_type": "code",
   "execution_count": 75,
   "metadata": {
    "collapsed": true
   },
   "outputs": [],
   "source": [
    "res=requests.get('https://rong.36kr.com/n/api/column/0/company?p=162',cookies=cookies)"
   ]
  },
  {
   "cell_type": "code",
   "execution_count": 76,
   "metadata": {},
   "outputs": [],
   "source": [
    "dic=json.loads(res.text)"
   ]
  },
  {
   "cell_type": "code",
   "execution_count": 77,
   "metadata": {
    "scrolled": true
   },
   "outputs": [
    {
     "data": {
      "text/plain": [
       "{'code': 429, 'data': {}, 'msg': '您请求的过于频繁，请稍后再试！'}"
      ]
     },
     "execution_count": 77,
     "metadata": {},
     "output_type": "execute_result"
    }
   ],
   "source": [
    "dic"
   ]
  },
  {
   "cell_type": "code",
   "execution_count": 73,
   "metadata": {},
   "outputs": [
    {
     "data": {
      "text/plain": [
       "dict_keys(['msg', 'data', 'code'])"
      ]
     },
     "execution_count": 73,
     "metadata": {},
     "output_type": "execute_result"
    }
   ],
   "source": [
    "dic.keys()"
   ]
  },
  {
   "cell_type": "code",
   "execution_count": 74,
   "metadata": {},
   "outputs": [
    {
     "data": {
      "text/plain": [
       "{'address1': 101,\n",
       " 'address1Desc': '北京市',\n",
       " 'address2': 20108,\n",
       " 'address2Desc': '海淀区',\n",
       " 'address3': 0,\n",
       " 'attachCid': 469533,\n",
       " 'brief': '消费金融服务提供商',\n",
       " 'businessInfoUrl': 'http://www.qixin.com/company/faddf02d-70ff-4934-a16f-f0fa254aedd3',\n",
       " 'companyIntroduce': {'productService': '', 'userMarket': ''},\n",
       " 'followed': False,\n",
       " 'fullName': '北京果粒科技有限公司',\n",
       " 'hasBussinessInfo': True,\n",
       " 'id': 54978099,\n",
       " 'industryEnum': 'FINANCE',\n",
       " 'industryEnumLabelId': 36,\n",
       " 'industryTag': [{'expose': 1,\n",
       "   'hot': 0,\n",
       "   'id': 135,\n",
       "   'level': 1,\n",
       "   'name': 'FinTech'},\n",
       "  {'expose': 1, 'hot': 0, 'id': 420, 'level': 2, 'name': 'PaaS'},\n",
       "  {'expose': 1, 'hot': 0, 'id': 572, 'level': 2, 'name': 'SaaS'},\n",
       "  {'expose': 0, 'hot': 0, 'id': 2161, 'level': 2, 'name': '企业融资'},\n",
       "  {'expose': 0, 'hot': 0, 'id': 2170, 'level': 2, 'name': '企业金融'},\n",
       "  {'expose': 0, 'hot': 0, 'id': 2517, 'level': 2, 'name': '信用贷款'},\n",
       "  {'expose': 0, 'hot': 0, 'id': 338, 'level': 2, 'name': '借贷'},\n",
       "  {'expose': 0, 'hot': 0, 'id': 2531, 'level': 2, 'name': '借贷平台'},\n",
       "  {'expose': 0, 'hot': 0, 'id': 968, 'level': 2, 'name': '小额信贷'},\n",
       "  {'expose': 1, 'hot': 0, 'id': 159, 'level': 1, 'name': '消费金融'},\n",
       "  {'expose': 1, 'hot': 0, 'id': 36, 'level': 0, 'name': '金融'}],\n",
       " 'intro': '果粒科技是一家消费金融服务提供商，公司拥有Saas服务平台以及Paas服务平台，依托大数据、人工智能、区块链等金融科技，为用户提供消费金融服务，旗下拥有融资贷款平台-“猎豹贷款”，为企业和个人提供小额贷款、银行信用贷款、个人小额贷款、网上贷款等贷款业务。',\n",
       " 'logo': 'http://krplus-pic.b0.upaiyun.com/201805/04/ce01f4d25864ccd3e09ba9b552a5aff8.png',\n",
       " 'managerUid': 0,\n",
       " 'member': False,\n",
       " 'name': '果粒科技',\n",
       " 'operationStatusEnum': 'OPEN',\n",
       " 'operationTag': [{'expose': 1,\n",
       "   'hot': 1,\n",
       "   'hotAt': 1477290526000,\n",
       "   'id': 684,\n",
       "   'level': 0,\n",
       "   'name': '36氪报道'},\n",
       "  {'expose': 1,\n",
       "   'hot': 1,\n",
       "   'hotAt': 1488974304000,\n",
       "   'id': 685,\n",
       "   'level': 0,\n",
       "   'name': '媒体报道'},\n",
       "  {'expose': 1,\n",
       "   'hot': 1,\n",
       "   'hotAt': 1488974317000,\n",
       "   'id': 949,\n",
       "   'level': 0,\n",
       "   'name': '知名机构投资'}],\n",
       " 'projectStatHeader': {'funding': False,\n",
       "  'fundsAmount': '￥ 5,000万',\n",
       "  'phase': 'Pre-A轮'},\n",
       " 'remarkName': '果粒科技,猎豹贷款',\n",
       " 'scale': '',\n",
       " 'startDate': 1521734400000,\n",
       " 'startDateDesc': '2018',\n",
       " 'website': '',\n",
       " 'weibo': '',\n",
       " 'weixin': ''}"
      ]
     },
     "execution_count": 74,
     "metadata": {},
     "output_type": "execute_result"
    }
   ],
   "source": [
    "dic['data']"
   ]
  },
  {
   "cell_type": "code",
   "execution_count": 55,
   "metadata": {},
   "outputs": [
    {
     "data": {
      "text/plain": [
       "'{\"0\": 1}'"
      ]
     },
     "execution_count": 55,
     "metadata": {},
     "output_type": "execute_result"
    }
   ],
   "source": [
    "json.dumps(d)"
   ]
  }
 ],
 "metadata": {
  "kernelspec": {
   "display_name": "Python 3",
   "language": "python",
   "name": "python3"
  },
  "language_info": {
   "codemirror_mode": {
    "name": "ipython",
    "version": 3
   },
   "file_extension": ".py",
   "mimetype": "text/x-python",
   "name": "python",
   "nbconvert_exporter": "python",
   "pygments_lexer": "ipython3",
   "version": "3.5.2"
  }
 },
 "nbformat": 4,
 "nbformat_minor": 2
}
