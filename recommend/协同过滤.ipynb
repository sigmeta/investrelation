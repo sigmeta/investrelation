{
 "cells": [
  {
   "cell_type": "code",
   "execution_count": null,
   "metadata": {
    "collapsed": true
   },
   "outputs": [],
   "source": [
    "import requests\n",
    "import json\n",
    "import time\n",
    "import random\n",
    "import numpy as np\n",
    "#from numpy import linalg as la \n",
    "#from numpy import *\n",
    "from sklearn.metrics.pairwise import pairwise_distances"
   ]
  },
  {
   "cell_type": "code",
   "execution_count": null,
   "metadata": {},
   "outputs": [],
   "source": [
    "time.localtime(1500000000)[:2]"
   ]
  },
  {
   "cell_type": "markdown",
   "metadata": {},
   "source": [
    "## 整理数据\n",
    "### 划分训练集和测试集，按照2017.7划分"
   ]
  },
  {
   "cell_type": "code",
   "execution_count": null,
   "metadata": {
    "collapsed": true
   },
   "outputs": [],
   "source": [
    "invb={};inva={}\n",
    "#读取所有的投资关系\n",
    "with open(\"data/projects.json\",encoding='utf8') as f:\n",
    "    dic=json.loads(f.read())\n",
    "\n",
    "#整理投资关系，2017.7前后都有投资的，加入invb,inva\n",
    "count=0\n",
    "for k in dic.keys():\n",
    "    #print(count,k);count+=1\n",
    "    #记录当前的，根据情况判断是否加入inva，invb\n",
    "    bn=[];an=[]\n",
    "    investments=dic[k][\"investments\"]\n",
    "    if len(investments)<2:\n",
    "        continue\n",
    "    for inv in investments:\n",
    "        tag=True\n",
    "        #对一家企业可能投过多次，看是否在时间节点之前投资过\n",
    "        for invn in inv[\"investments\"]:\n",
    "            if invn['investAt']<1500000000000:\n",
    "                bn.append(inv['project']['companyName'])\n",
    "                tag=False\n",
    "                break\n",
    "        if tag:\n",
    "            an.append(inv['project']['companyName'])\n",
    "    if len(an)>0 and len(bn)>1:\n",
    "        invb[dic[k]['org']['nameAbbr']]=bn\n",
    "        inva[dic[k]['org']['nameAbbr']]=an"
   ]
  },
  {
   "cell_type": "code",
   "execution_count": null,
   "metadata": {
    "collapsed": true
   },
   "outputs": [],
   "source": [
    "invb={};inva={}\n",
    "#读取所有的投资关系\n",
    "with open(\"data/projects.json\",encoding='utf8') as f:\n",
    "    dic=json.loads(f.read())\n",
    "\n",
    "#整理投资关系，2017.7前后都有投资的，加入invb,inva\n",
    "count=0\n",
    "for k in dic.keys():\n",
    "    #print(count,k);count+=1\n",
    "    #记录当前的，根据情况判断是否加入inva，invb\n",
    "    bn=[];an=[]\n",
    "    investments=dic[k][\"investments\"]\n",
    "    if len(investments)<2:\n",
    "        continue\n",
    "    for inv in investments:\n",
    "        #对一家企业可能投过多次，看是否在时间节点之前投资过\n",
    "        for invn in inv[\"investments\"]:\n",
    "            if invn['investAt']<1500000000000:\n",
    "                bn.append(inv['project']['companyName'])\n",
    "                break\n",
    "        for invn in inv[\"investments\"]:\n",
    "            if invn['investAt']>=1500000000000:\n",
    "                an.append(inv['project']['companyName'])\n",
    "                break\n",
    "    if len(an)>0 and len(bn)>1:\n",
    "        invb[dic[k]['org']['nameAbbr']]=bn\n",
    "        inva[dic[k]['org']['nameAbbr']]=an"
   ]
  },
  {
   "cell_type": "code",
   "execution_count": null,
   "metadata": {},
   "outputs": [],
   "source": [
    "#将划分时间之后出现的企业中，没有在之前出现的去掉\n",
    "comb=[];coma=[]\n",
    "for k in inva:\n",
    "    comb+=invb[k]\n",
    "    coma+=inva[k]\n",
    "print(len(comb),len(coma))\n",
    "print(len(set(comb)),len(set(coma)))\n",
    "setb=set(comb)\n",
    "comafter=[]\n",
    "for c in list(set(coma)):\n",
    "    if c in setb:\n",
    "        #print(c)\n",
    "        comafter.append(c)\n",
    "print(len(comafter))"
   ]
  },
  {
   "cell_type": "code",
   "execution_count": null,
   "metadata": {},
   "outputs": [],
   "source": [
    "comdict={}#企业对应的顺序\n",
    "comlist=[]\n",
    "for i,c in enumerate(sorted(list(set(comb)))):\n",
    "    comdict[c]=i\n",
    "    comlist.append(c)\n",
    "#投资机构列表\n",
    "investors=sorted(list(invb.keys()))\n",
    "print('投资机构数量',len(investors))\n",
    "#投资关系矩阵\n",
    "inv_matrix=np.zeros((len(investors),len(set(comb))))\n",
    "for i,inv in enumerate(investors):\n",
    "    for c in invb[inv]:\n",
    "        #print(i,comdict[c])\n",
    "        inv_matrix[i,comdict[c]]=1.0\n",
    "#物品的相似矩阵\n",
    "item_similarity = pairwise_distances(inv_matrix.T, metric = \"cosine\")"
   ]
  },
  {
   "cell_type": "code",
   "execution_count": null,
   "metadata": {
    "collapsed": true
   },
   "outputs": [],
   "source": [
    "comnot=[]\n",
    "for c in comdict:\n",
    "    if c not in comafter:\n",
    "        comnot.append(comdict[c])"
   ]
  },
  {
   "cell_type": "code",
   "execution_count": null,
   "metadata": {
    "collapsed": true
   },
   "outputs": [],
   "source": [
    "#推荐列表\n",
    "def recommend(user,dataMat,simMat):\n",
    "    invested=[]#投资过的企业列表\n",
    "    for i in range(dataMat.shape[1]):\n",
    "        if dataMat[user,i]!=0:\n",
    "            invested.append(i)\n",
    "    mean_vec=np.sum(1-simMat[invested],axis=0)/len(invested)\n",
    "    #mean_vec[invested]=-1\n",
    "    mean_vec[comnot]=-1\n",
    "    ratelist=[[i,rate] for i,rate in enumerate(mean_vec)]\n",
    "    random.shuffle(ratelist)\n",
    "    return sorted(ratelist,key=lambda k:k[1],reverse=True)\n",
    "    #return [com[0] for com in sorted(ratelist,key=lambda k:k[1],reverse=True)]"
   ]
  },
  {
   "cell_type": "code",
   "execution_count": null,
   "metadata": {
    "scrolled": true
   },
   "outputs": [],
   "source": [
    "c10=c100=c500=allcount=0\n",
    "for i,investor in enumerate(investors):\n",
    "    recres=recommend(i,inv_matrix,item_similarity)\n",
    "    if recres[0][1]==0:\n",
    "        continue\n",
    "    reclist=[com[0] for com in recres]\n",
    "    reallist=inva[investor]\n",
    "    for r in reallist:\n",
    "        if r in comafter:\n",
    "            allcount+=1\n",
    "            if comdict[r] in reclist[:10]:\n",
    "                c10+=1;c100+=1;c500+=1\n",
    "            elif comdict[r] in reclist[:100]:\n",
    "                c100+=1;c500+=1\n",
    "            elif comdict[r] in reclist[:500]:\n",
    "                c500+=1\n",
    "    if allcount>0:\n",
    "        print(i,c10/allcount,c100/allcount,c500/allcount)"
   ]
  },
  {
   "cell_type": "code",
   "execution_count": null,
   "metadata": {},
   "outputs": [],
   "source": [
    "recommend(2000,inv_matrix,item_similarity)"
   ]
  },
  {
   "cell_type": "code",
   "execution_count": null,
   "metadata": {},
   "outputs": [],
   "source": [
    "investors"
   ]
  },
  {
   "cell_type": "code",
   "execution_count": null,
   "metadata": {},
   "outputs": [],
   "source": [
    "item_similarity.shape[0]**2-np.sum(item_similarity)"
   ]
  },
  {
   "cell_type": "code",
   "execution_count": null,
   "metadata": {},
   "outputs": [],
   "source": [
    "np.sum(inv_matrix)/(inv_matrix.shape[0]*inv_matrix.shape[1])"
   ]
  },
  {
   "cell_type": "code",
   "execution_count": null,
   "metadata": {},
   "outputs": [],
   "source": [
    "'Yotpo' in comafter"
   ]
  },
  {
   "cell_type": "code",
   "execution_count": null,
   "metadata": {},
   "outputs": [],
   "source": [
    "item_similarity.shape"
   ]
  },
  {
   "cell_type": "code",
   "execution_count": null,
   "metadata": {},
   "outputs": [],
   "source": [
    "comb[22141]"
   ]
  },
  {
   "cell_type": "code",
   "execution_count": null,
   "metadata": {},
   "outputs": [],
   "source": [
    "np.sum(inv_matrix,axis=1)"
   ]
  },
  {
   "cell_type": "code",
   "execution_count": null,
   "metadata": {},
   "outputs": [],
   "source": [
    "np.sum(inv_matrix[51])"
   ]
  }
 ],
 "metadata": {
  "kernelspec": {
   "display_name": "Python 3",
   "language": "python",
   "name": "python3"
  },
  "language_info": {
   "codemirror_mode": {
    "name": "ipython",
    "version": 3
   },
   "file_extension": ".py",
   "mimetype": "text/x-python",
   "name": "python",
   "nbconvert_exporter": "python",
   "pygments_lexer": "ipython3",
   "version": "3.5.2"
  }
 },
 "nbformat": 4,
 "nbformat_minor": 2
}
