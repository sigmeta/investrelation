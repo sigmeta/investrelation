{
 "cells": [
  {
   "cell_type": "code",
   "execution_count": 1,
   "metadata": {},
   "outputs": [
    {
     "name": "stderr",
     "output_type": "stream",
     "text": [
      "Using TensorFlow backend.\n"
     ]
    }
   ],
   "source": [
    "import keras\n",
    "from keras.models import Sequential\n",
    "from keras.layers import Dense, Dropout, Activation  \n",
    "from keras.optimizers import RMSprop,SGD  \n",
    "import numpy as np\n",
    "from keras.callbacks import TensorBoard"
   ]
  },
  {
   "cell_type": "code",
   "execution_count": 2,
   "metadata": {
    "collapsed": true
   },
   "outputs": [],
   "source": [
    "ar=np.load('data/rel.npy')\n",
    "np.random.shuffle(ar)\n",
    "ar[ar[:,124]>1e6,124]=1e6\n",
    "ar[ar[:,449]>1e6,449]=1e6\n",
    "ar[:,124]=np.log(ar[:,124]+1)\n",
    "ar[:,449]=np.log(ar[:,449]+1)\n",
    "m=int(ar.shape[0]*0.7)\n",
    "traindata=np.array(ar[:m,:-1],dtype=np.float32)\n",
    "trainlabel=ar[:m,-1:]\n",
    "testdata=ar[m:,:-1]\n",
    "testlabel=ar[m:,-1:]"
   ]
  },
  {
   "cell_type": "code",
   "execution_count": 3,
   "metadata": {},
   "outputs": [
    {
     "data": {
      "text/plain": [
       "7.1810294616779107"
      ]
     },
     "execution_count": 3,
     "metadata": {},
     "output_type": "execute_result"
    }
   ],
   "source": [
    "ar[:,124].mean()"
   ]
  },
  {
   "cell_type": "code",
   "execution_count": 4,
   "metadata": {
    "collapsed": true
   },
   "outputs": [],
   "source": [
    "trainlabel= keras.utils.to_categorical(trainlabel,2)\n",
    "testlabel= keras.utils.to_categorical(testlabel,2) "
   ]
  },
  {
   "cell_type": "code",
   "execution_count": 5,
   "metadata": {
    "collapsed": true
   },
   "outputs": [],
   "source": [
    "model = Sequential()\n",
    "model.add(Dense(500,input_dim=650)) # 输入层\n",
    "model.add(Activation('relu')) # 激活函数是relu\n",
    "model.add(Dropout(0.5)) # 采用50%的dropout\n",
    "\n",
    "model.add(Dense(300)) # 输入层\n",
    "model.add(Activation('relu')) # 激活函数是relu\n",
    "model.add(Dropout(0.5)) # 采用50%的dropout\n",
    "\n",
    "model.add(Dense(30)) # 隐藏层节点500个  \n",
    "model.add(Activation('relu'))  \n",
    "model.add(Dropout(0.5))\n",
    "\n",
    "model.add(Dense(2)) # 输出结果是10个类别，所以维度是10  \n",
    "model.add(Activation('softmax')) # 最后一层用softmax作为激活函数"
   ]
  },
  {
   "cell_type": "code",
   "execution_count": 6,
   "metadata": {
    "scrolled": false
   },
   "outputs": [
    {
     "name": "stdout",
     "output_type": "stream",
     "text": [
      "_________________________________________________________________\n",
      "Layer (type)                 Output Shape              Param #   \n",
      "=================================================================\n",
      "dense_1 (Dense)              (None, 500)               325500    \n",
      "_________________________________________________________________\n",
      "activation_1 (Activation)    (None, 500)               0         \n",
      "_________________________________________________________________\n",
      "dropout_1 (Dropout)          (None, 500)               0         \n",
      "_________________________________________________________________\n",
      "dense_2 (Dense)              (None, 300)               150300    \n",
      "_________________________________________________________________\n",
      "activation_2 (Activation)    (None, 300)               0         \n",
      "_________________________________________________________________\n",
      "dropout_2 (Dropout)          (None, 300)               0         \n",
      "_________________________________________________________________\n",
      "dense_3 (Dense)              (None, 30)                9030      \n",
      "_________________________________________________________________\n",
      "activation_3 (Activation)    (None, 30)                0         \n",
      "_________________________________________________________________\n",
      "dropout_3 (Dropout)          (None, 30)                0         \n",
      "_________________________________________________________________\n",
      "dense_4 (Dense)              (None, 2)                 62        \n",
      "_________________________________________________________________\n",
      "activation_4 (Activation)    (None, 2)                 0         \n",
      "=================================================================\n",
      "Total params: 484,892\n",
      "Trainable params: 484,892\n",
      "Non-trainable params: 0\n",
      "_________________________________________________________________\n"
     ]
    }
   ],
   "source": [
    "model.summary() #打印出模型概况\n",
    "sgd = SGD(lr=0.01, decay=1e-6, momentum=0.9, nesterov=True) # 优化函数，设定学习率（lr）等参数  \n",
    "model.compile(loss='categorical_crossentropy', optimizer=sgd) # 使用交叉熵作为loss函数"
   ]
  },
  {
   "cell_type": "code",
   "execution_count": 7,
   "metadata": {
    "scrolled": true
   },
   "outputs": [
    {
     "name": "stdout",
     "output_type": "stream",
     "text": [
      "Train on 280000 samples, validate on 120000 samples\n",
      "Epoch 1/100\n",
      "280000/280000 [==============================] - 8s - loss: 0.6965 - val_loss: 0.6868\n",
      "Epoch 2/100\n",
      "280000/280000 [==============================] - 5s - loss: 0.6796 - val_loss: 0.6507\n",
      "Epoch 3/100\n",
      "280000/280000 [==============================] - 4s - loss: 0.6537 - val_loss: 0.6161\n",
      "Epoch 4/100\n",
      "280000/280000 [==============================] - 5s - loss: 0.6233 - val_loss: 0.5721\n",
      "Epoch 5/100\n",
      "280000/280000 [==============================] - 5s - loss: 0.5940 - val_loss: 0.5387\n",
      "Epoch 6/100\n",
      "280000/280000 [==============================] - 4s - loss: 0.5709 - val_loss: 0.5188\n",
      "Epoch 7/100\n",
      "280000/280000 [==============================] - 5s - loss: 0.5547 - val_loss: 0.5033\n",
      "Epoch 8/100\n",
      "280000/280000 [==============================] - 5s - loss: 0.5396 - val_loss: 0.4912\n",
      "Epoch 9/100\n",
      "280000/280000 [==============================] - 4s - loss: 0.5278 - val_loss: 0.4790\n",
      "Epoch 10/100\n",
      "280000/280000 [==============================] - 5s - loss: 0.5173 - val_loss: 0.4713\n",
      "Epoch 11/100\n",
      "280000/280000 [==============================] - 5s - loss: 0.5090 - val_loss: 0.4619\n",
      "Epoch 12/100\n",
      "280000/280000 [==============================] - 4s - loss: 0.5003 - val_loss: 0.4550\n",
      "Epoch 13/100\n",
      "280000/280000 [==============================] - 4s - loss: 0.4939 - val_loss: 0.4471\n",
      "Epoch 14/100\n",
      "280000/280000 [==============================] - 4s - loss: 0.4859 - val_loss: 0.4416\n",
      "Epoch 15/100\n",
      "280000/280000 [==============================] - 4s - loss: 0.4801 - val_loss: 0.4365\n",
      "Epoch 16/100\n",
      "280000/280000 [==============================] - 4s - loss: 0.4740 - val_loss: 0.4322\n",
      "Epoch 17/100\n",
      "280000/280000 [==============================] - 5s - loss: 0.4677 - val_loss: 0.4257\n",
      "Epoch 18/100\n",
      "280000/280000 [==============================] - 4s - loss: 0.4630 - val_loss: 0.4229\n",
      "Epoch 19/100\n",
      "280000/280000 [==============================] - 4s - loss: 0.4572 - val_loss: 0.4203\n",
      "Epoch 20/100\n",
      "280000/280000 [==============================] - 4s - loss: 0.4533 - val_loss: 0.4179\n",
      "Epoch 21/100\n",
      "280000/280000 [==============================] - 4s - loss: 0.4484 - val_loss: 0.4108\n",
      "Epoch 22/100\n",
      "280000/280000 [==============================] - 4s - loss: 0.4449 - val_loss: 0.4088\n",
      "Epoch 23/100\n",
      "280000/280000 [==============================] - 4s - loss: 0.4387 - val_loss: 0.4033\n",
      "Epoch 24/100\n",
      "280000/280000 [==============================] - 5s - loss: 0.4359 - val_loss: 0.4009\n",
      "Epoch 25/100\n",
      "280000/280000 [==============================] - 4s - loss: 0.4309 - val_loss: 0.3948\n",
      "Epoch 26/100\n",
      "280000/280000 [==============================] - 4s - loss: 0.4268 - val_loss: 0.3918\n",
      "Epoch 27/100\n",
      "280000/280000 [==============================] - 4s - loss: 0.4217 - val_loss: 0.3903\n",
      "Epoch 28/100\n",
      "280000/280000 [==============================] - 4s - loss: 0.4179 - val_loss: 0.3852\n",
      "Epoch 29/100\n",
      "280000/280000 [==============================] - 4s - loss: 0.4130 - val_loss: 0.3820\n",
      "Epoch 30/100\n",
      "280000/280000 [==============================] - 4s - loss: 0.4095 - val_loss: 0.3776\n",
      "Epoch 31/100\n",
      "280000/280000 [==============================] - 4s - loss: 0.4062 - val_loss: 0.3745\n",
      "Epoch 32/100\n",
      "280000/280000 [==============================] - 4s - loss: 0.4021 - val_loss: 0.3700\n",
      "Epoch 33/100\n",
      "280000/280000 [==============================] - 4s - loss: 0.3967 - val_loss: 0.3671\n",
      "Epoch 34/100\n",
      "280000/280000 [==============================] - 4s - loss: 0.3935 - val_loss: 0.3631\n",
      "Epoch 35/100\n",
      "280000/280000 [==============================] - 4s - loss: 0.3905 - val_loss: 0.3593\n",
      "Epoch 36/100\n",
      "280000/280000 [==============================] - 5s - loss: 0.3869 - val_loss: 0.3578\n",
      "Epoch 37/100\n",
      "280000/280000 [==============================] - 5s - loss: 0.3825 - val_loss: 0.3541\n",
      "Epoch 38/100\n",
      "280000/280000 [==============================] - 5s - loss: 0.3800 - val_loss: 0.3499\n",
      "Epoch 39/100\n",
      "280000/280000 [==============================] - 5s - loss: 0.3754 - val_loss: 0.3499\n",
      "Epoch 40/100\n",
      "280000/280000 [==============================] - 5s - loss: 0.3723 - val_loss: 0.3432\n",
      "Epoch 41/100\n",
      "280000/280000 [==============================] - 5s - loss: 0.3688 - val_loss: 0.3433\n",
      "Epoch 42/100\n",
      "280000/280000 [==============================] - 5s - loss: 0.3670 - val_loss: 0.3388\n",
      "Epoch 43/100\n",
      "280000/280000 [==============================] - 5s - loss: 0.3627 - val_loss: 0.3364\n",
      "Epoch 44/100\n",
      "280000/280000 [==============================] - 4s - loss: 0.3600 - val_loss: 0.3329\n",
      "Epoch 45/100\n",
      "280000/280000 [==============================] - 5s - loss: 0.3567 - val_loss: 0.3304\n",
      "Epoch 46/100\n",
      "280000/280000 [==============================] - 4s - loss: 0.3538 - val_loss: 0.3299\n",
      "Epoch 47/100\n",
      "280000/280000 [==============================] - 4s - loss: 0.3519 - val_loss: 0.3287\n",
      "Epoch 48/100\n",
      "280000/280000 [==============================] - 4s - loss: 0.3510 - val_loss: 0.3273\n",
      "Epoch 49/100\n",
      "280000/280000 [==============================] - 4s - loss: 0.3468 - val_loss: 0.3211\n",
      "Epoch 50/100\n",
      "280000/280000 [==============================] - 4s - loss: 0.3444 - val_loss: 0.3235\n",
      "Epoch 51/100\n",
      "280000/280000 [==============================] - 5s - loss: 0.3421 - val_loss: 0.3190\n",
      "Epoch 52/100\n",
      "280000/280000 [==============================] - 4s - loss: 0.3387 - val_loss: 0.3173\n",
      "Epoch 53/100\n",
      "280000/280000 [==============================] - 4s - loss: 0.3380 - val_loss: 0.3146\n",
      "Epoch 54/100\n",
      "280000/280000 [==============================] - 4s - loss: 0.3356 - val_loss: 0.3149\n",
      "Epoch 55/100\n",
      "280000/280000 [==============================] - 4s - loss: 0.3328 - val_loss: 0.3169\n",
      "Epoch 56/100\n",
      "280000/280000 [==============================] - 4s - loss: 0.3307 - val_loss: 0.3162\n",
      "Epoch 57/100\n",
      "280000/280000 [==============================] - 4s - loss: 0.3292 - val_loss: 0.3130\n",
      "Epoch 58/100\n",
      "280000/280000 [==============================] - 5s - loss: 0.3286 - val_loss: 0.3088\n",
      "Epoch 59/100\n",
      "280000/280000 [==============================] - 6s - loss: 0.3254 - val_loss: 0.3095\n",
      "Epoch 60/100\n",
      "280000/280000 [==============================] - 5s - loss: 0.3240 - val_loss: 0.3084\n",
      "Epoch 61/100\n",
      "280000/280000 [==============================] - 6s - loss: 0.3226 - val_loss: 0.3080\n",
      "Epoch 62/100\n",
      "280000/280000 [==============================] - 5s - loss: 0.3199 - val_loss: 0.3055\n",
      "Epoch 63/100\n",
      "280000/280000 [==============================] - 5s - loss: 0.3189 - val_loss: 0.3039\n",
      "Epoch 64/100\n",
      "280000/280000 [==============================] - 5s - loss: 0.3166 - val_loss: 0.3017\n",
      "Epoch 65/100\n",
      "280000/280000 [==============================] - 6s - loss: 0.3152 - val_loss: 0.3037\n",
      "Epoch 66/100\n",
      "280000/280000 [==============================] - 5s - loss: 0.3130 - val_loss: 0.2991\n",
      "Epoch 67/100\n",
      "280000/280000 [==============================] - 5s - loss: 0.3119 - val_loss: 0.2985\n",
      "Epoch 68/100\n",
      "280000/280000 [==============================] - 4s - loss: 0.3098 - val_loss: 0.2985\n",
      "Epoch 69/100\n",
      "280000/280000 [==============================] - 4s - loss: 0.3091 - val_loss: 0.2997\n",
      "Epoch 70/100\n",
      "280000/280000 [==============================] - 4s - loss: 0.3067 - val_loss: 0.2964\n",
      "Epoch 71/100\n",
      "280000/280000 [==============================] - 5s - loss: 0.3052 - val_loss: 0.2944\n",
      "Epoch 72/100\n",
      "280000/280000 [==============================] - 5s - loss: 0.3051 - val_loss: 0.2978\n",
      "Epoch 73/100\n",
      "280000/280000 [==============================] - 5s - loss: 0.3031 - val_loss: 0.2943\n",
      "Epoch 74/100\n",
      "280000/280000 [==============================] - 4s - loss: 0.3005 - val_loss: 0.2945\n",
      "Epoch 75/100\n",
      "280000/280000 [==============================] - 5s - loss: 0.3007 - val_loss: 0.2927\n",
      "Epoch 76/100\n",
      "280000/280000 [==============================] - 5s - loss: 0.2986 - val_loss: 0.2940\n",
      "Epoch 77/100\n",
      "280000/280000 [==============================] - 4s - loss: 0.2977 - val_loss: 0.2916\n",
      "Epoch 78/100\n",
      "280000/280000 [==============================] - 4s - loss: 0.2969 - val_loss: 0.2891\n",
      "Epoch 79/100\n",
      "280000/280000 [==============================] - 4s - loss: 0.2947 - val_loss: 0.2883\n",
      "Epoch 80/100\n",
      "280000/280000 [==============================] - 4s - loss: 0.2955 - val_loss: 0.2904\n",
      "Epoch 81/100\n",
      "280000/280000 [==============================] - 4s - loss: 0.2937 - val_loss: 0.2878\n",
      "Epoch 82/100\n",
      "280000/280000 [==============================] - 4s - loss: 0.2912 - val_loss: 0.2899\n",
      "Epoch 83/100\n"
     ]
    },
    {
     "name": "stdout",
     "output_type": "stream",
     "text": [
      "280000/280000 [==============================] - 5s - loss: 0.2900 - val_loss: 0.2900\n",
      "Epoch 84/100\n",
      "280000/280000 [==============================] - 5s - loss: 0.2889 - val_loss: 0.2855\n",
      "Epoch 85/100\n",
      "280000/280000 [==============================] - 5s - loss: 0.2896 - val_loss: 0.2889\n",
      "Epoch 86/100\n",
      "280000/280000 [==============================] - 4s - loss: 0.2878 - val_loss: 0.2868\n",
      "Epoch 87/100\n",
      "280000/280000 [==============================] - 4s - loss: 0.2870 - val_loss: 0.2863\n",
      "Epoch 88/100\n",
      "280000/280000 [==============================] - 4s - loss: 0.2855 - val_loss: 0.2849\n",
      "Epoch 89/100\n",
      "280000/280000 [==============================] - 4s - loss: 0.2837 - val_loss: 0.2844\n",
      "Epoch 90/100\n",
      "280000/280000 [==============================] - 4s - loss: 0.2824 - val_loss: 0.2848\n",
      "Epoch 91/100\n",
      "280000/280000 [==============================] - 4s - loss: 0.2812 - val_loss: 0.2845\n",
      "Epoch 92/100\n",
      "280000/280000 [==============================] - 4s - loss: 0.2820 - val_loss: 0.2871\n",
      "Epoch 93/100\n",
      "280000/280000 [==============================] - 4s - loss: 0.2797 - val_loss: 0.2828\n",
      "Epoch 94/100\n",
      "280000/280000 [==============================] - 4s - loss: 0.2792 - val_loss: 0.2824\n",
      "Epoch 95/100\n",
      "280000/280000 [==============================] - 4s - loss: 0.2777 - val_loss: 0.2822\n",
      "Epoch 96/100\n",
      "280000/280000 [==============================] - 4s - loss: 0.2767 - val_loss: 0.2837\n",
      "Epoch 97/100\n",
      "280000/280000 [==============================] - 4s - loss: 0.2753 - val_loss: 0.2827\n",
      "Epoch 98/100\n",
      "280000/280000 [==============================] - 4s - loss: 0.2752 - val_loss: 0.2812\n",
      "Epoch 99/100\n",
      "280000/280000 [==============================] - 4s - loss: 0.2739 - val_loss: 0.2833\n",
      "Epoch 100/100\n",
      "280000/280000 [==============================] - 4s - loss: 0.2735 - val_loss: 0.2805\n"
     ]
    },
    {
     "data": {
      "text/plain": [
       "<keras.callbacks.History at 0x27d6dfd2940>"
      ]
     },
     "execution_count": 7,
     "metadata": {},
     "output_type": "execute_result"
    }
   ],
   "source": [
    "model.fit(traindata,trainlabel,batch_size=1000,epochs=100,validation_data=(testdata,testlabel),shuffle=True,verbose=1, callbacks=[TensorBoard(log_dir='E:/tmp/log')])"
   ]
  },
  {
   "cell_type": "code",
   "execution_count": 8,
   "metadata": {},
   "outputs": [
    {
     "data": {
      "text/plain": [
       "0.91981785714285713"
      ]
     },
     "execution_count": 8,
     "metadata": {},
     "output_type": "execute_result"
    }
   ],
   "source": [
    "tr=model.predict(traindata).argmax(axis=1)\n",
    "te=trainlabel.argmax(axis=1)\n",
    "(1-np.abs(tr-te)).sum()/len(tr)"
   ]
  },
  {
   "cell_type": "code",
   "execution_count": 9,
   "metadata": {
    "scrolled": true
   },
   "outputs": [
    {
     "data": {
      "text/plain": [
       "0.88456666666666661"
      ]
     },
     "execution_count": 9,
     "metadata": {},
     "output_type": "execute_result"
    }
   ],
   "source": [
    "tr=model.predict(testdata).argmax(axis=1)\n",
    "te=testlabel.argmax(axis=1)\n",
    "(1-np.abs(tr-te)).sum()/len(tr)"
   ]
  },
  {
   "cell_type": "code",
   "execution_count": 11,
   "metadata": {},
   "outputs": [
    {
     "data": {
      "text/plain": [
       "0.0006000000000000001"
      ]
     },
     "execution_count": 11,
     "metadata": {},
     "output_type": "execute_result"
    }
   ],
   "source": [
    "600000/(200000*)*100"
   ]
  },
  {
   "cell_type": "code",
   "execution_count": 12,
   "metadata": {},
   "outputs": [
    {
     "data": {
      "text/plain": [
       "0.88770661848357091"
      ]
     },
     "execution_count": 12,
     "metadata": {},
     "output_type": "execute_result"
    }
   ],
   "source": [
    "#查准率\n",
    "(tr*te).sum()/tr.sum()"
   ]
  },
  {
   "cell_type": "code",
   "execution_count": 13,
   "metadata": {},
   "outputs": [
    {
     "data": {
      "text/plain": [
       "0.88139534883720927"
      ]
     },
     "execution_count": 13,
     "metadata": {},
     "output_type": "execute_result"
    }
   ],
   "source": [
    "#召回率\n",
    "(tr*te).sum()/te.sum()"
   ]
  },
  {
   "cell_type": "code",
   "execution_count": 10,
   "metadata": {
    "collapsed": true
   },
   "outputs": [],
   "source": [
    "import graphviz"
   ]
  },
  {
   "cell_type": "code",
   "execution_count": 18,
   "metadata": {
    "scrolled": true
   },
   "outputs": [
    {
     "ename": "ImportError",
     "evalue": "Failed to import pydot. You must install pydot and graphviz for `pydotprint` to work.",
     "output_type": "error",
     "traceback": [
      "\u001b[1;31m---------------------------------------------------------------------------\u001b[0m",
      "\u001b[1;31mInvocationException\u001b[0m                       Traceback (most recent call last)",
      "\u001b[1;32mE:\\Applications\\Anaconda3\\lib\\site-packages\\keras\\utils\\vis_utils.py\u001b[0m in \u001b[0;36m_check_pydot\u001b[1;34m()\u001b[0m\n\u001b[0;32m     22\u001b[0m         \u001b[1;31m# to check the pydot/graphviz installation.\u001b[0m\u001b[1;33m\u001b[0m\u001b[1;33m\u001b[0m\u001b[0m\n\u001b[1;32m---> 23\u001b[1;33m         \u001b[0mpydot\u001b[0m\u001b[1;33m.\u001b[0m\u001b[0mDot\u001b[0m\u001b[1;33m.\u001b[0m\u001b[0mcreate\u001b[0m\u001b[1;33m(\u001b[0m\u001b[0mpydot\u001b[0m\u001b[1;33m.\u001b[0m\u001b[0mDot\u001b[0m\u001b[1;33m(\u001b[0m\u001b[1;33m)\u001b[0m\u001b[1;33m)\u001b[0m\u001b[1;33m\u001b[0m\u001b[0m\n\u001b[0m\u001b[0;32m     24\u001b[0m     \u001b[1;32mexcept\u001b[0m \u001b[0mException\u001b[0m\u001b[1;33m:\u001b[0m\u001b[1;33m\u001b[0m\u001b[0m\n",
      "\u001b[1;32mE:\\Applications\\Anaconda3\\lib\\site-packages\\pydot_ng\\__init__.py\u001b[0m in \u001b[0;36mcreate\u001b[1;34m(self, prog, format)\u001b[0m\n\u001b[0;32m   1889\u001b[0m                 raise InvocationException(\n\u001b[1;32m-> 1890\u001b[1;33m                     'GraphViz\\'s executables not found')\n\u001b[0m\u001b[0;32m   1891\u001b[0m \u001b[1;33m\u001b[0m\u001b[0m\n",
      "\u001b[1;31mInvocationException\u001b[0m: GraphViz's executables not found",
      "\nDuring handling of the above exception, another exception occurred:\n",
      "\u001b[1;31mImportError\u001b[0m                               Traceback (most recent call last)",
      "\u001b[1;32m<ipython-input-18-fbb1b8fae547>\u001b[0m in \u001b[0;36m<module>\u001b[1;34m()\u001b[0m\n\u001b[0;32m      1\u001b[0m \u001b[1;32mfrom\u001b[0m \u001b[0mkeras\u001b[0m\u001b[1;33m.\u001b[0m\u001b[0mutils\u001b[0m \u001b[1;32mimport\u001b[0m \u001b[0mplot_model\u001b[0m\u001b[1;33m\u001b[0m\u001b[0m\n\u001b[1;32m----> 2\u001b[1;33m \u001b[0mplot_model\u001b[0m\u001b[1;33m(\u001b[0m\u001b[0mmodel\u001b[0m\u001b[1;33m)\u001b[0m\u001b[1;33m\u001b[0m\u001b[0m\n\u001b[0m",
      "\u001b[1;32mE:\\Applications\\Anaconda3\\lib\\site-packages\\keras\\utils\\vis_utils.py\u001b[0m in \u001b[0;36mplot_model\u001b[1;34m(model, to_file, show_shapes, show_layer_names, rankdir)\u001b[0m\n\u001b[0;32m    129\u001b[0m             \u001b[1;34m'LR'\u001b[0m \u001b[0mcreates\u001b[0m \u001b[0ma\u001b[0m \u001b[0mhorizontal\u001b[0m \u001b[0mplot\u001b[0m\u001b[1;33m.\u001b[0m\u001b[1;33m\u001b[0m\u001b[0m\n\u001b[0;32m    130\u001b[0m     \"\"\"\n\u001b[1;32m--> 131\u001b[1;33m     \u001b[0mdot\u001b[0m \u001b[1;33m=\u001b[0m \u001b[0mmodel_to_dot\u001b[0m\u001b[1;33m(\u001b[0m\u001b[0mmodel\u001b[0m\u001b[1;33m,\u001b[0m \u001b[0mshow_shapes\u001b[0m\u001b[1;33m,\u001b[0m \u001b[0mshow_layer_names\u001b[0m\u001b[1;33m,\u001b[0m \u001b[0mrankdir\u001b[0m\u001b[1;33m)\u001b[0m\u001b[1;33m\u001b[0m\u001b[0m\n\u001b[0m\u001b[0;32m    132\u001b[0m     \u001b[0m_\u001b[0m\u001b[1;33m,\u001b[0m \u001b[0mextension\u001b[0m \u001b[1;33m=\u001b[0m \u001b[0mos\u001b[0m\u001b[1;33m.\u001b[0m\u001b[0mpath\u001b[0m\u001b[1;33m.\u001b[0m\u001b[0msplitext\u001b[0m\u001b[1;33m(\u001b[0m\u001b[0mto_file\u001b[0m\u001b[1;33m)\u001b[0m\u001b[1;33m\u001b[0m\u001b[0m\n\u001b[0;32m    133\u001b[0m     \u001b[1;32mif\u001b[0m \u001b[1;32mnot\u001b[0m \u001b[0mextension\u001b[0m\u001b[1;33m:\u001b[0m\u001b[1;33m\u001b[0m\u001b[0m\n",
      "\u001b[1;32mE:\\Applications\\Anaconda3\\lib\\site-packages\\keras\\utils\\vis_utils.py\u001b[0m in \u001b[0;36mmodel_to_dot\u001b[1;34m(model, show_shapes, show_layer_names, rankdir)\u001b[0m\n\u001b[0;32m     50\u001b[0m     \u001b[1;32mfrom\u001b[0m \u001b[1;33m.\u001b[0m\u001b[1;33m.\u001b[0m\u001b[0mmodels\u001b[0m \u001b[1;32mimport\u001b[0m \u001b[0mSequential\u001b[0m\u001b[1;33m\u001b[0m\u001b[0m\n\u001b[0;32m     51\u001b[0m \u001b[1;33m\u001b[0m\u001b[0m\n\u001b[1;32m---> 52\u001b[1;33m     \u001b[0m_check_pydot\u001b[0m\u001b[1;33m(\u001b[0m\u001b[1;33m)\u001b[0m\u001b[1;33m\u001b[0m\u001b[0m\n\u001b[0m\u001b[0;32m     53\u001b[0m     \u001b[0mdot\u001b[0m \u001b[1;33m=\u001b[0m \u001b[0mpydot\u001b[0m\u001b[1;33m.\u001b[0m\u001b[0mDot\u001b[0m\u001b[1;33m(\u001b[0m\u001b[1;33m)\u001b[0m\u001b[1;33m\u001b[0m\u001b[0m\n\u001b[0;32m     54\u001b[0m     \u001b[0mdot\u001b[0m\u001b[1;33m.\u001b[0m\u001b[0mset\u001b[0m\u001b[1;33m(\u001b[0m\u001b[1;34m'rankdir'\u001b[0m\u001b[1;33m,\u001b[0m \u001b[0mrankdir\u001b[0m\u001b[1;33m)\u001b[0m\u001b[1;33m\u001b[0m\u001b[0m\n",
      "\u001b[1;32mE:\\Applications\\Anaconda3\\lib\\site-packages\\keras\\utils\\vis_utils.py\u001b[0m in \u001b[0;36m_check_pydot\u001b[1;34m()\u001b[0m\n\u001b[0;32m     25\u001b[0m         \u001b[1;31m# pydot raises a generic Exception here,\u001b[0m\u001b[1;33m\u001b[0m\u001b[1;33m\u001b[0m\u001b[0m\n\u001b[0;32m     26\u001b[0m         \u001b[1;31m# so no specific class can be caught.\u001b[0m\u001b[1;33m\u001b[0m\u001b[1;33m\u001b[0m\u001b[0m\n\u001b[1;32m---> 27\u001b[1;33m         raise ImportError('Failed to import pydot. You must install pydot'\n\u001b[0m\u001b[0;32m     28\u001b[0m                           ' and graphviz for `pydotprint` to work.')\n\u001b[0;32m     29\u001b[0m \u001b[1;33m\u001b[0m\u001b[0m\n",
      "\u001b[1;31mImportError\u001b[0m: Failed to import pydot. You must install pydot and graphviz for `pydotprint` to work."
     ]
    }
   ],
   "source": [
    "from keras.utils import plot_model\n",
    "plot_model(model)"
   ]
  },
  {
   "cell_type": "code",
   "execution_count": 14,
   "metadata": {
    "collapsed": true
   },
   "outputs": [],
   "source": [
    "model.save(\"model/keras/keras2\")"
   ]
  },
  {
   "cell_type": "code",
   "execution_count": 77,
   "metadata": {},
   "outputs": [
    {
     "data": {
      "text/plain": [
       "array([[ 1.,  0.],\n",
       "       [ 1.,  0.],\n",
       "       [ 0.,  1.],\n",
       "       ..., \n",
       "       [ 0.,  1.],\n",
       "       [ 1.,  0.],\n",
       "       [ 0.,  1.]])"
      ]
     },
     "execution_count": 77,
     "metadata": {},
     "output_type": "execute_result"
    }
   ],
   "source": [
    "testlabel"
   ]
  },
  {
   "cell_type": "code",
   "execution_count": 74,
   "metadata": {},
   "outputs": [
    {
     "name": "stdout",
     "output_type": "stream",
     "text": [
      "277000/280000 [============================>.] - ETA: 0s"
     ]
    },
    {
     "data": {
      "text/plain": [
       "0.29777025819889136"
      ]
     },
     "execution_count": 74,
     "metadata": {},
     "output_type": "execute_result"
    }
   ],
   "source": [
    "model.evaluate(traindata, trainlabel, batch_size=1000,verbose=1)"
   ]
  },
  {
   "cell_type": "code",
   "execution_count": null,
   "metadata": {
    "collapsed": true
   },
   "outputs": [],
   "source": []
  }
 ],
 "metadata": {
  "kernelspec": {
   "display_name": "Python 3",
   "language": "python",
   "name": "python3"
  },
  "language_info": {
   "codemirror_mode": {
    "name": "ipython",
    "version": 3
   },
   "file_extension": ".py",
   "mimetype": "text/x-python",
   "name": "python",
   "nbconvert_exporter": "python",
   "pygments_lexer": "ipython3",
   "version": "3.5.2"
  }
 },
 "nbformat": 4,
 "nbformat_minor": 2
}
