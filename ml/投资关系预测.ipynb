{
 "cells": [
  {
   "cell_type": "code",
   "execution_count": 14,
   "metadata": {},
   "outputs": [
    {
     "name": "stdout",
     "output_type": "stream",
     "text": [
      "curses is not supported on this machine (please install/reinstall curses for an optimal experience)\n"
     ]
    }
   ],
   "source": [
    "import tflearn\n",
    "import pandas as pd\n",
    "import numpy as np"
   ]
  },
  {
   "cell_type": "code",
   "execution_count": 3,
   "metadata": {
    "collapsed": true
   },
   "outputs": [],
   "source": [
    "#训练word2vec\n",
    "from gensim.models import word2vec\n",
    "import pymysql\n",
    "import jieba\n",
    "import re\n",
    "\n",
    "#整理文本，分词\n",
    "#连接数据库\n",
    "conn = pymysql.connect('localhost','root','9432','companyb',charset='utf8')\n",
    "cursor=conn.cursor()\n",
    "\n",
    "#选取所有企业经营范围文本\n",
    "cursor.execute(\"select 经营范围 from company\")\n",
    "fw=cursor.fetchall()"
   ]
  },
  {
   "cell_type": "code",
   "execution_count": 17,
   "metadata": {
    "collapsed": true
   },
   "outputs": [],
   "source": [
    "import jieba\n",
    "import re"
   ]
  },
  {
   "cell_type": "code",
   "execution_count": 22,
   "metadata": {},
   "outputs": [
    {
     "name": "stdout",
     "output_type": "stream",
     "text": [
      "7397090"
     ]
    }
   ],
   "source": [
    "stopwords=['、',',','.','，','。','；','：','〓','（','）','《','》','*','#','&','(',')',';','“','”']\n",
    "f=open('jingyingfanwei.txt','w',encoding='utf8')\n",
    "for i in range(len(fw)):\n",
    "    print('\\r'+str(i),end='')\n",
    "    st=re.sub('【依法须经批准的项目，经相关部门批准后方可开展经营活动】','',fw[i][0])\n",
    "    st=re.sub('(依法须经批准的项目，经相关部门批准后方可开展经营活动)','',st)\n",
    "    st=re.sub('（依法须经批准的项目，经相关部门批准后方可开展经营活动）','',st)\n",
    "    wlist=[]\n",
    "    for w in jieba.lcut(st):\n",
    "        if w not in stopwords:\n",
    "            wlist.append(w)\n",
    "    if len(wlist)>0:\n",
    "        f.write(' '.join(wlist)+'\\n')\n",
    "f.close()"
   ]
  },
  {
   "cell_type": "code",
   "execution_count": 1,
   "metadata": {},
   "outputs": [
    {
     "name": "stderr",
     "output_type": "stream",
     "text": [
      "E:\\Applications\\Anaconda3\\lib\\site-packages\\gensim\\utils.py:1197: UserWarning: detected Windows; aliasing chunkize to chunkize_serial\n",
      "  warnings.warn(\"detected Windows; aliasing chunkize to chunkize_serial\")\n"
     ]
    }
   ],
   "source": [
    "import gensim\n",
    "model=gensim.models.Word2Vec.load('model/model')"
   ]
  },
  {
   "cell_type": "code",
   "execution_count": null,
   "metadata": {
    "collapsed": true
   },
   "outputs": [],
   "source": []
  },
  {
   "cell_type": "code",
   "execution_count": 38,
   "metadata": {},
   "outputs": [
    {
     "name": "stderr",
     "output_type": "stream",
     "text": [
      "E:\\Applications\\Anaconda3\\lib\\site-packages\\ipykernel_launcher.py:1: DeprecationWarning: Call to deprecated `__getitem__` (Method will be removed in 4.0.0, use self.wv.__getitem__() instead).\n",
      "  \"\"\"Entry point for launching an IPython kernel.\n"
     ]
    },
    {
     "data": {
      "text/plain": [
       "(200,)"
      ]
     },
     "execution_count": 38,
     "metadata": {},
     "output_type": "execute_result"
    }
   ],
   "source": [
    "model[\"证\"].shape"
   ]
  },
  {
   "cell_type": "code",
   "execution_count": 7,
   "metadata": {},
   "outputs": [
    {
     "data": {
      "text/plain": [
       "[('企业财务', 0.7603194117546082),\n",
       " ('财税', 0.7290462255477905),\n",
       " ('财务管理', 0.6784918904304504),\n",
       " ('账务', 0.6147493124008179),\n",
       " ('财务会计', 0.6081889867782593),\n",
       " ('会计信息', 0.5938112735748291),\n",
       " ('税务', 0.5924118757247925),\n",
       " ('财务咨询', 0.5917810201644897),\n",
       " ('企业会计', 0.5760539174079895),\n",
       " ('财会', 0.5752812623977661)]"
      ]
     },
     "execution_count": 7,
     "metadata": {},
     "output_type": "execute_result"
    }
   ],
   "source": [
    "model.wv.most_similar(\"财务\")"
   ]
  },
  {
   "cell_type": "code",
   "execution_count": 43,
   "metadata": {
    "collapsed": true
   },
   "outputs": [],
   "source": [
    "#连接数据库\n",
    "conn = pymysql.connect('localhost','root','9432','companyb',charset='utf8')\n",
    "cursor=conn.cursor()\n",
    "\n",
    "#选取所有企业经营范围文本\n",
    "cursor.execute(\"select * from pre_com\")\n",
    "com=cursor.fetchall()"
   ]
  },
  {
   "cell_type": "code",
   "execution_count": 52,
   "metadata": {},
   "outputs": [
    {
     "data": {
      "text/plain": [
       "True"
      ]
     },
     "execution_count": 52,
     "metadata": {},
     "output_type": "execute_result"
    }
   ],
   "source": [
    "com[0][4]==None"
   ]
  },
  {
   "cell_type": "code",
   "execution_count": 45,
   "metadata": {},
   "outputs": [
    {
     "data": {
      "text/plain": [
       "('DEMAINE国际建筑设计顾问（北京）有限公司',\n",
       " '北京市',\n",
       " 4,\n",
       " '专业技术服务业',\n",
       " 1,\n",
       " 2008,\n",
       " 10,\n",
       " '100 万元 人民币',\n",
       " '建筑设计咨询；室内设计咨询；景观规划与设计咨询；工程设计咨询；建筑项目管理咨询；企业管理咨询；图文设计。（依法须经批准的项目，经相关部门批准后依批准的内容开展经营活动。）')"
      ]
     },
     "execution_count": 45,
     "metadata": {},
     "output_type": "execute_result"
    }
   ],
   "source": [
    "com[3]"
   ]
  },
  {
   "cell_type": "code",
   "execution_count": 58,
   "metadata": {},
   "outputs": [
    {
     "data": {
      "text/plain": [
       "'建筑设计咨询；室内设计咨询；景观规划与设计咨询；工程设计咨询；建筑项目管理咨询；企业管理咨询；图文设计。（依法须经批准的项目，经相关部门批准后依批准的内容开展经营活动。）'"
      ]
     },
     "execution_count": 58,
     "metadata": {},
     "output_type": "execute_result"
    }
   ],
   "source": [
    "com[3][8]"
   ]
  },
  {
   "cell_type": "code",
   "execution_count": 54,
   "metadata": {
    "collapsed": true
   },
   "outputs": [],
   "source": [
    "arr=np.zeros((200))"
   ]
  },
  {
   "cell_type": "code",
   "execution_count": 62,
   "metadata": {
    "collapsed": true
   },
   "outputs": [],
   "source": [
    "dic={}\n",
    "dic[0]=arr.tolist()"
   ]
  },
  {
   "cell_type": "code",
   "execution_count": 63,
   "metadata": {},
   "outputs": [
    {
     "data": {
      "text/plain": [
       "'{\"0\": [0.0, 0.0, 0.0, 0.0, 0.0, 0.0, 0.0, 0.0, 0.0, 0.0, 0.0, 0.0, 0.0, 0.0, 0.0, 0.0, 0.0, 0.0, 0.0, 0.0, 0.0, 0.0, 0.0, 0.0, 0.0, 0.0, 0.0, 0.0, 0.0, 0.0, 0.0, 0.0, 0.0, 0.0, 0.0, 0.0, 0.0, 0.0, 0.0, 0.0, 0.0, 0.0, 0.0, 0.0, 0.0, 0.0, 0.0, 0.0, 0.0, 0.0, 0.0, 0.0, 0.0, 0.0, 0.0, 0.0, 0.0, 0.0, 0.0, 0.0, 0.0, 0.0, 0.0, 0.0, 0.0, 0.0, 0.0, 0.0, 0.0, 0.0, 0.0, 0.0, 0.0, 0.0, 0.0, 0.0, 0.0, 0.0, 0.0, 0.0, 0.0, 0.0, 0.0, 0.0, 0.0, 0.0, 0.0, 0.0, 0.0, 0.0, 0.0, 0.0, 0.0, 0.0, 0.0, 0.0, 0.0, 0.0, 0.0, 0.0, 0.0, 0.0, 0.0, 0.0, 0.0, 0.0, 0.0, 0.0, 0.0, 0.0, 0.0, 0.0, 0.0, 0.0, 0.0, 0.0, 0.0, 0.0, 0.0, 0.0, 0.0, 0.0, 0.0, 0.0, 0.0, 0.0, 0.0, 0.0, 0.0, 0.0, 0.0, 0.0, 0.0, 0.0, 0.0, 0.0, 0.0, 0.0, 0.0, 0.0, 0.0, 0.0, 0.0, 0.0, 0.0, 0.0, 0.0, 0.0, 0.0, 0.0, 0.0, 0.0, 0.0, 0.0, 0.0, 0.0, 0.0, 0.0, 0.0, 0.0, 0.0, 0.0, 0.0, 0.0, 0.0, 0.0, 0.0, 0.0, 0.0, 0.0, 0.0, 0.0, 0.0, 0.0, 0.0, 0.0, 0.0, 0.0, 0.0, 0.0, 0.0, 0.0, 0.0, 0.0, 0.0, 0.0, 0.0, 0.0, 0.0, 0.0, 0.0, 0.0, 0.0, 0.0, 0.0, 0.0, 0.0, 0.0, 0.0, 0.0]}'"
      ]
     },
     "execution_count": 63,
     "metadata": {},
     "output_type": "execute_result"
    }
   ],
   "source": [
    "import json\n",
    "json.dumps(dic)"
   ]
  },
  {
   "cell_type": "code",
   "execution_count": 69,
   "metadata": {},
   "outputs": [
    {
     "data": {
      "text/plain": [
       "array([[ 0.,  0.,  0., ...,  0.,  0.,  0.],\n",
       "       [ 0.,  0.,  0., ...,  0.,  0.,  0.],\n",
       "       [ 0.,  0.,  0., ...,  0.,  0.,  0.],\n",
       "       ..., \n",
       "       [ 0.,  0.,  0., ...,  0.,  0.,  0.],\n",
       "       [ 0.,  0.,  0., ...,  0.,  0.,  0.],\n",
       "       [ 0.,  0.,  0., ...,  0.,  0.,  0.]])"
      ]
     },
     "execution_count": 69,
     "metadata": {},
     "output_type": "execute_result"
    }
   ],
   "source": [
    "np.zeros((619972,325))"
   ]
  },
  {
   "cell_type": "code",
   "execution_count": 4,
   "metadata": {},
   "outputs": [
    {
     "name": "stderr",
     "output_type": "stream",
     "text": [
      "E:\\Applications\\Anaconda3\\lib\\site-packages\\gensim\\utils.py:1197: UserWarning: detected Windows; aliasing chunkize to chunkize_serial\n",
      "  warnings.warn(\"detected Windows; aliasing chunkize to chunkize_serial\")\n"
     ]
    }
   ],
   "source": [
    "import json\n",
    "import numpy as np\n",
    "import pymysql\n",
    "import jieba\n",
    "import re\n",
    "import random\n",
    "#整理文本，分词\n",
    "#连接数据库\n",
    "conn = pymysql.connect('localhost','root','9432','companyb',charset='utf8')\n",
    "cursor=conn.cursor()\n",
    "\n",
    "#选取所有投资关系\n",
    "cursor.execute(\"select investor,company from pre_rel where location is not null and locationi is not null\")\n",
    "rel=cursor.fetchall()\n",
    "#企业对应编号\n",
    "comnum=json.load(open('data/comnum.json','r'))\n",
    "#企业信息矩阵\n",
    "com=np.load('data/commatrix.npy')\n",
    "#投资关系矩阵\n",
    "ar1=np.zeros((len(rel),651))\n",
    "for i,r in enumerate(rel):\n",
    "    print('\\r'+str(i),end='')\n",
    "    ar1[i,:325]=com[comnum[r[0]]]\n",
    "    ar1[i,325:650]=com[comnum[r[1]]]\n",
    "    ar1[i,650]=1\n",
    "    \n",
    "np.save('data/reltrue',ar1)\n",
    "\n",
    "rela=[]\n",
    "for i,r in enumerate(rel):\n",
    "    rela.append([comnum[r[0]],comnum[r[1]]])\n",
    "\n",
    "    \n",
    "dic0={}\n",
    "for i in range(com.shape[0]):\n",
    "    dic0[i]=[]\n",
    "for r in rela:\n",
    "    dic0[r[0]].append(r[1])\n",
    "for i in range(len(rela)):\n",
    "    print('\\r'+str(i),end='')\n",
    "    while True:\n",
    "        n=random.randint(1,com.shape[0])\n",
    "        if n!=i and n not in dic0[i]:\n",
    "            break\n",
    "    ar1[i,:325]=com[i]\n",
    "    ar1[i,325:650]=com[n]\n",
    "    ar1[i,650]=0\n",
    "    \n",
    "np.save('data/relfalse',ar1)"
   ]
  },
  {
   "cell_type": "code",
   "execution_count": null,
   "metadata": {
    "collapsed": true
   },
   "outputs": [],
   "source": []
  }
 ],
 "metadata": {
  "kernelspec": {
   "display_name": "Python 3",
   "language": "python",
   "name": "python3"
  },
  "language_info": {
   "codemirror_mode": {
    "name": "ipython",
    "version": 3
   },
   "file_extension": ".py",
   "mimetype": "text/x-python",
   "name": "python",
   "nbconvert_exporter": "python",
   "pygments_lexer": "ipython3",
   "version": "3.5.2"
  }
 },
 "nbformat": 4,
 "nbformat_minor": 2
}
