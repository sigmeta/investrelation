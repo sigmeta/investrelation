{
 "cells": [
  {
   "cell_type": "code",
   "execution_count": 1,
   "metadata": {
    "collapsed": true
   },
   "outputs": [],
   "source": [
    "import pymysql\n",
    "import pandas as df\n",
    "import json\n",
    "import re\n",
    "import jieba"
   ]
  },
  {
   "cell_type": "code",
   "execution_count": 2,
   "metadata": {
    "collapsed": true
   },
   "outputs": [],
   "source": [
    "#连接数据库\n",
    "conn = pymysql.connect('localhost','root','9432','companyb',charset='utf8')\n",
    "cursor=conn.cursor()"
   ]
  },
  {
   "cell_type": "code",
   "execution_count": null,
   "metadata": {
    "collapsed": true
   },
   "outputs": [],
   "source": [
    "cursor.execute(\"select company,主要人员,股东信息 from companya\")\n",
    "a=cursor.fetchall()"
   ]
  },
  {
   "cell_type": "code",
   "execution_count": null,
   "metadata": {
    "collapsed": true
   },
   "outputs": [],
   "source": [
    "for i in range(len(a)):\n",
    "    print('\\r'+str(i),end='')\n",
    "    rlist=[]\n",
    "    ilist=[]\n",
    "    if a[i][1]!='':        \n",
    "        dlist=a[i][1].split(';')\n",
    "        for d in dlist:\n",
    "            if len(d.split('：'))<2:\n",
    "                continue\n",
    "            dicr={}\n",
    "            dicr['post']=d.split('：')[0]\n",
    "            dicr['name']=d.split('：')[1]\n",
    "            rlist.append(dicr)\n",
    "    if a[i][2]!='':\n",
    "        dlist=a[i][2].split(';')\n",
    "        for d in dlist:\n",
    "            dici={}\n",
    "            dici['type']=d.split(',')[0]\n",
    "            dici['name']=d.split(',')[1]\n",
    "            ilist.append(dici)\n",
    "    \n",
    "    try:\n",
    "        cursor.execute(\"insert into com_team_investor values('%s','%s','%s');\"%(a[i][0],json.dumps(rlist,ensure_ascii=False),json.dumps(ilist,ensure_ascii=False)))\n",
    "    except Exception as e:\n",
    "        print(e)\n",
    "    if i%1000==0:\n",
    "        try:\n",
    "            conn.commit()\n",
    "        except:\n",
    "            print('失败')\n",
    "conn.commit()\n",
    "    "
   ]
  },
  {
   "cell_type": "code",
   "execution_count": null,
   "metadata": {
    "collapsed": true
   },
   "outputs": [],
   "source": [
    "\"insert into com_team_investor values('%s','%s','%s');\"%(a[i][0],json.dumps(rlist,ensure_ascii=False),json.dumps(ilist,ensure_ascii=False))"
   ]
  },
  {
   "cell_type": "code",
   "execution_count": null,
   "metadata": {
    "collapsed": true
   },
   "outputs": [],
   "source": [
    "for i in range(len(a)):\n",
    "    print('\\r'+str(i),end='')\n",
    "    if a[i][1]=='':\n",
    "        z=0\n",
    "    elif re.search('\\d+',a[i][1]):\n",
    "        z=int(re.search('\\d+',a[i][1]).group())\n",
    "        if re.search('美|欧',a[i][1]):\n",
    "            z*=6 \n",
    "    else:\n",
    "        z=0\n",
    "    try:\n",
    "        cursor.execute(\"insert into ca_zb values('%s',%d);\"%(a[i][0],z))\n",
    "    except Exception as e:\n",
    "        print(e)\n",
    "    if i%100==0:\n",
    "        try:\n",
    "            conn.commit()\n",
    "        except:\n",
    "            print('失败')\n",
    "conn.commit()"
   ]
  },
  {
   "cell_type": "code",
   "execution_count": null,
   "metadata": {
    "collapsed": true
   },
   "outputs": [],
   "source": [
    "cursor.execute(\"select *,ca_zb.zb from com_team_investor_copy1 join ca_zb on com_team_investor_copy1.company=ca_zb.company\")\n",
    "a=cursor.fetchall()"
   ]
  },
  {
   "cell_type": "code",
   "execution_count": null,
   "metadata": {
    "collapsed": true
   },
   "outputs": [],
   "source": [
    "a[1]"
   ]
  },
  {
   "cell_type": "code",
   "execution_count": null,
   "metadata": {
    "collapsed": true
   },
   "outputs": [],
   "source": [
    "for i in range(len(a)):\n",
    "    print('\\r'+str(i),end='')\n",
    "    if a[i][1]=='[]':\n",
    "        continue\n",
    "    else:\n",
    "        for ry in json.loads(a[i][1]):\n",
    "            try:\n",
    "                cursor.execute(\"insert into ca_renyuan values ('%s','%s','%s','%d');\"%(a[i][0],ry[\"name\"],ry[\"post\"],a[i][4]))\n",
    "            except Exception as e:\n",
    "                print(e)\n",
    "    if i%1000==0:\n",
    "        try:\n",
    "            conn.commit()\n",
    "        except:\n",
    "            print(\"失败\")\n",
    "conn.commit()"
   ]
  },
  {
   "cell_type": "code",
   "execution_count": null,
   "metadata": {
    "collapsed": true
   },
   "outputs": [],
   "source": [
    "for i in range(len(a)):\n",
    "    print('\\r'+str(i),end='')\n",
    "    if a[i][2]=='[]':\n",
    "        continue\n",
    "    else:\n",
    "        for ry in json.loads(a[i][2]):\n",
    "            try:\n",
    "                cursor.execute(\"insert into ca_investor values ('%s','%s','%s','%d');\"%(a[i][0],ry[\"name\"],ry[\"type\"],a[i][4]))\n",
    "            except Exception as e:\n",
    "                print(e)\n",
    "    if i%1000==0:\n",
    "        try:\n",
    "            conn.commit()\n",
    "        except:\n",
    "            print(\"失败\")\n",
    "conn.commit()"
   ]
  },
  {
   "cell_type": "code",
   "execution_count": null,
   "metadata": {
    "collapsed": true
   },
   "outputs": [],
   "source": [
    "cursor.execute(\"select * from com_team_investor\")\n",
    "a=cursor.fetchall()"
   ]
  },
  {
   "cell_type": "code",
   "execution_count": null,
   "metadata": {
    "collapsed": true
   },
   "outputs": [],
   "source": [
    "a[0]"
   ]
  },
  {
   "cell_type": "code",
   "execution_count": null,
   "metadata": {
    "collapsed": true
   },
   "outputs": [],
   "source": [
    "for i in range(229936,len(a)):\n",
    "    print('\\r'+str(i),end='')\n",
    "    if a[i][2]=='[]':\n",
    "        continue\n",
    "    else:\n",
    "        for ry in json.loads(a[i][2]):\n",
    "            try:\n",
    "                if re.search(ry['name'],a[i][1]):\n",
    "                    continue\n",
    "            except Exception as e:\n",
    "                print(e)\n",
    "                continue\n",
    "            try:\n",
    "                cursor.execute(\"insert into com_investor_1 values ('%s','%s','%s');\"%(a[i][0],ry[\"name\"],ry[\"type\"]))\n",
    "            except Exception as e:\n",
    "                print(e)\n",
    "    if i%1000==0:\n",
    "        try:\n",
    "            conn.commit()\n",
    "        except:\n",
    "            print(\"失败\")\n",
    "conn.commit()"
   ]
  },
  {
   "cell_type": "code",
   "execution_count": null,
   "metadata": {
    "collapsed": true
   },
   "outputs": [],
   "source": []
  },
  {
   "cell_type": "code",
   "execution_count": null,
   "metadata": {
    "collapsed": true
   },
   "outputs": [],
   "source": [
    "cursor.execute(\"select companya.company,companya.主要人员,companya.股东信息,ca_zb.zb from companya join ca_zb on companya.company=ca_zb.company\")\n",
    "a=cursor.fetchall()"
   ]
  },
  {
   "cell_type": "code",
   "execution_count": null,
   "metadata": {
    "collapsed": true
   },
   "outputs": [],
   "source": [
    "a[2]"
   ]
  },
  {
   "cell_type": "code",
   "execution_count": null,
   "metadata": {
    "collapsed": true
   },
   "outputs": [],
   "source": [
    "for i in range(len(a)):\n",
    "    print('\\r'+str(i),end='')\n",
    "    if a[i][1]=='':\n",
    "        continue\n",
    "    else:\n",
    "        for ry in a[i][1].split(';'):\n",
    "            try:\n",
    "                cursor.execute(\"insert into ca_renyuan values ('%s','%s','%s','%d');\"%(a[i][0],ry.split('：')[1],ry.split('：')[0],a[i][3]))\n",
    "            except Exception as e:\n",
    "                #print(\"insert into ca_renyuan values('%s','%s','%s','%d');\"%(a[i][0],ry.split('：')[1],ry.split('：')[0],a[i][3]))\n",
    "                print(e)\n",
    "    if i%1000==0:\n",
    "        try:\n",
    "            conn.commit()\n",
    "        except:\n",
    "            print(\"失败\")\n",
    "conn.commit()"
   ]
  },
  {
   "cell_type": "code",
   "execution_count": null,
   "metadata": {
    "collapsed": true
   },
   "outputs": [],
   "source": [
    "a[2]"
   ]
  },
  {
   "cell_type": "code",
   "execution_count": null,
   "metadata": {
    "collapsed": true
   },
   "outputs": [],
   "source": [
    "for i in range(len(a)):\n",
    "    print('\\r'+str(i),end='')\n",
    "    if a[i][2]=='':\n",
    "        continue\n",
    "    else:\n",
    "        for ry in a[i][2].split(';'):\n",
    "            try:\n",
    "                cursor.execute(\"insert into ca_investor values ('%s', '%s', '%s', '%d');\"%(a[i][0],ry.split(',')[1],ry.split(',')[0],a[i][3]))\n",
    "            except Exception as e:\n",
    "                print(e)\n",
    "    if i%1000==0:\n",
    "        try:\n",
    "            conn.commit()\n",
    "        except:\n",
    "            print(\"失败\")\n",
    "conn.commit()"
   ]
  },
  {
   "cell_type": "code",
   "execution_count": null,
   "metadata": {
    "collapsed": true
   },
   "outputs": [],
   "source": []
  },
  {
   "cell_type": "code",
   "execution_count": null,
   "metadata": {
    "collapsed": true
   },
   "outputs": [],
   "source": []
  },
  {
   "cell_type": "code",
   "execution_count": null,
   "metadata": {
    "collapsed": true
   },
   "outputs": [],
   "source": [
    "dicj={}\n",
    "for i in range(len(a)):\n",
    "    dicj[a[i][0]]=a[i][-1]"
   ]
  },
  {
   "cell_type": "code",
   "execution_count": null,
   "metadata": {
    "collapsed": true
   },
   "outputs": [],
   "source": [
    "dicr={}\n",
    "for i in range(len(b)):\n",
    "    dicr[b[i][0]+str(b[i][4])]=b[i][-1]"
   ]
  },
  {
   "cell_type": "code",
   "execution_count": null,
   "metadata": {
    "collapsed": true
   },
   "outputs": [],
   "source": [
    "for i in range(3,4):\n",
    "    d=json.loads(a[i][13])\n",
    "    #print(d)\n",
    "    n=a[i][-1]\n",
    "    for j in d:\n",
    "        if j[\"userInfo\"][\"name\"]+str(n) in dicr.keys():\n",
    "            j[\"userInfo\"][\"uid\"]=dicr[j[\"userInfo\"][\"name\"]+str(n)]\n",
    "        else:\n",
    "            j[\"userInfo\"][\"uid\"]=0\n",
    "    print(\"update mymodel_jg set team='\"+json.dumps(d,ensure_ascii=False)+\"' where id=\"+str(n).replace('\\\\n',' '))\n",
    "    cursor.execute(\"update mymodel_jg set team='%s' where id=%d\"%(json.dumps(d,ensure_ascii=False),n))\n",
    "    conn.commit()\n",
    "    print(i,n)"
   ]
  },
  {
   "cell_type": "code",
   "execution_count": null,
   "metadata": {
    "collapsed": true
   },
   "outputs": [],
   "source": [
    "dicr['张明1']"
   ]
  },
  {
   "cell_type": "code",
   "execution_count": 3,
   "metadata": {
    "collapsed": true
   },
   "outputs": [],
   "source": [
    "#com_investor_fzrr_done\n",
    "cursor.execute(\"select * from com_inv\")\n",
    "a=cursor.fetchall()"
   ]
  },
  {
   "cell_type": "code",
   "execution_count": 10,
   "metadata": {},
   "outputs": [
    {
     "data": {
      "text/plain": [
       "['TCL', '集团股份', '有限公司']"
      ]
     },
     "execution_count": 10,
     "metadata": {},
     "output_type": "execute_result"
    }
   ],
   "source": [
    "jieba.lcut(a[20][0])"
   ]
  },
  {
   "cell_type": "code",
   "execution_count": 31,
   "metadata": {},
   "outputs": [
    {
     "data": {
      "text/plain": [
       "['一汽', '实业', '总公司']"
      ]
     },
     "execution_count": 31,
     "metadata": {},
     "output_type": "execute_result"
    }
   ],
   "source": [
    "jieba.lcut('一汽实业总公司')"
   ]
  },
  {
   "cell_type": "code",
   "execution_count": null,
   "metadata": {
    "collapsed": true
   },
   "outputs": [],
   "source": [
    "for i in range(20,len(a)):\n",
    "    c1=jieba.lcut(a[i][0])\n",
    "    c2=jieba.lcut(a[i][1])\n",
    "    count=0\n",
    "    for c in c1:\n",
    "        if c in c2:\n",
    "            count+=1\n",
    "    if count/len(c1)<=0.6:\n",
    "        \n",
    "        try:\n",
    "            cursor.execute(\"insert into com_inv_1 values ('%s', '%s', '%s', '%s', '%s');\"%a[i])\n",
    "        except Exception as e:\n",
    "            print(e)\n",
    "    else:\n",
    "        print(a[i])\n",
    "    if i//1000==0:\n",
    "        conn.commit()\n",
    "conn.commit()"
   ]
  },
  {
   "cell_type": "code",
   "execution_count": null,
   "metadata": {
    "collapsed": true
   },
   "outputs": [],
   "source": [
    "stoplist=['公司','有限公司','集团','集团股份','股份','总公司']\n",
    "for i in range(len(a)):\n",
    "    #print(i)\n",
    "    ctag=1\n",
    "    ctag1=1\n",
    "    s1=a[i][0];s2=a[i][1]\n",
    "    if re.search('（.+）',s2):\n",
    "        ctag=0\n",
    "        s2=re.sub('（.+）','',s2)\n",
    "    if re.search('（.+）',s1):\n",
    "        ctag1=0\n",
    "        s1=re.sub('（.+）','',s1)\n",
    "    c1=jieba.lcut(s1)\n",
    "    c2=jieba.lcut(s2)\n",
    "    count=0\n",
    "    countn=0\n",
    "    for c in c1[:]:\n",
    "        if c not in stoplist:\n",
    "            countn+=1\n",
    "            if c in c2[ctag:]:\n",
    "                count+=1\n",
    "    #print(c1,c2,count,countn)\n",
    "    if countn==0 or count/countn<=0.3:\n",
    "        #print('ok',a[i])\n",
    "        \n",
    "        try:\n",
    "            cursor.execute(\"insert into com_inv_3 values ('%s', '%s', '%s', '%s', '%s');\"%a[i])\n",
    "        except Exception as e:\n",
    "            print(e)\n",
    "        \n",
    "    else:\n",
    "        print('xx',a[i])\n",
    "    if i%1000==0:\n",
    "        conn.commit()\n",
    "conn.commit()"
   ]
  },
  {
   "cell_type": "code",
   "execution_count": 35,
   "metadata": {
    "collapsed": true
   },
   "outputs": [],
   "source": [
    "conn.commit()"
   ]
  },
  {
   "cell_type": "code",
   "execution_count": 9,
   "metadata": {
    "collapsed": true
   },
   "outputs": [],
   "source": [
    "cursor.execute(\"select company,对外投资 from adding2 WHERE `对外投资` NOT LIKE '%[]%'\")\n",
    "a=cursor.fetchall()"
   ]
  },
  {
   "cell_type": "code",
   "execution_count": 20,
   "metadata": {},
   "outputs": [
    {
     "data": {
      "text/plain": [
       "378676"
      ]
     },
     "execution_count": 20,
     "metadata": {},
     "output_type": "execute_result"
    }
   ],
   "source": [
    "len(a)"
   ]
  },
  {
   "cell_type": "code",
   "execution_count": 12,
   "metadata": {},
   "outputs": [
    {
     "name": "stdout",
     "output_type": "stream",
     "text": [
      "0\n"
     ]
    }
   ],
   "source": [
    "for i in range(len(a)):\n",
    "    ilist=json.loads(a[i][1])\n",
    "    for inv in ilist:\n",
    "        try:\n",
    "            cursor.execute(\"insert into com_inv values ('%s', '%s', '%s', '%s', '%s');\"%(a[i][0],inv[\"company\"],inv[\"money\"],inv[\"time\"],inv[\"status\"]))\n",
    "        except Exception as e:\n",
    "            print(e)\n",
    "    if i/1000==0:\n",
    "        print(i)\n",
    "        conn.commit()\n",
    "conn.commit()"
   ]
  },
  {
   "cell_type": "code",
   "execution_count": 19,
   "metadata": {
    "collapsed": true
   },
   "outputs": [],
   "source": [
    "cursor.execute(\"select * from com_b1 WHERE `变更记录` NOT LIKE '%[]%'\")\n",
    "a=cursor.fetchall()"
   ]
  },
  {
   "cell_type": "code",
   "execution_count": 29,
   "metadata": {
    "collapsed": true
   },
   "outputs": [],
   "source": [
    "cursor.execute(\"select com_inv_1.*,com_b1.注册资本,com_b1.成立日期,com_b1.变更记录 from com_inv_1 join com_b1 on com_inv_1.company=com_b1.company WHERE com_b1.`变更记录` NOT LIKE '%[]%'\")\n",
    "a=cursor.fetchall()"
   ]
  },
  {
   "cell_type": "code",
   "execution_count": 59,
   "metadata": {},
   "outputs": [
    {
     "data": {
      "text/plain": [
       "'[{\"time\": \"2017-11-06\", \"type\": \"注册资本\", \"after\": \"3000万元\", \"before\": \"500万元\"}, {\"time\": \"2017-11-06\", \"type\": \"投资人\", \"after\": \"1 一兰科技（北京）有限公司 法人股东2 兰助晴 自然人股东3 润兰科技（北京）有限公司 企业法人4 兰雨晴 自然人股东5 李龑 自然人股东\", \"before\": \"1 兰助晴 自然人股东2 润兰科技（北京）有限公司 企业法人3 京蒙青创（北京）信息技术有限公司 企业法人4 李龑 自然人股东\"}, {\"time\": \"2017-11-06\", \"type\": \"企业类型\", \"after\": \"其他有限责任公司\", \"before\": \"有限责任公司(自然人投资或控股)\"}, {\"time\": \"2017-09-25\", \"type\": \"投资人\", \"after\": \"1 兰助晴 自然人股东2 润兰科技（北京）有限公司 企业法人3 京蒙青创（北京）信息技术有限公司 企业法人4 李龑 自然人股东\", \"before\": \"1 兰助晴 自然人股东2 京蒙青创（北京）信息技术有限公司 企业法人3 李龑 自然人股东\"}, {\"time\": \"2017-08-18\", \"type\": \"经营范围\", \"after\": \"劳务派遣（劳务派遣经营许可证有效期至2019年10月26日）。技术开发、技术推广、技术转让、技术咨询、技术服务；教育咨询（中介服务除外）；会议服务；销售计算机、软件及辅助设备、机械设备。企业依法自主选择经营项目，开展经营活动；依法须经批准的项目，经相关部门批准后依批准的内容开展经营活动；不得从事本市产业政策禁止和限制类项目的经营活动。\", \"before\": \"劳务派遣（劳务派遣经营许可证有效期至2019年10月26日）。技术开发、技术推广、技术转让、技术咨询、技术服务、教育咨询（中介服务除外）；会议服务。企业依法自主选择经营项目，开展经营活动；依法须经批准的项目，经相关部门批准后依批准的内容开展经营活动；不得从事本市产业政策禁止和限制类项目的经营活动。\"}, {\"time\": \"2017-02-22\", \"type\": \"经营范围\", \"after\": \"劳务派遣（劳务派遣经营许可证有效期至2019年10月26日）。技术开发、技术推广、技术转让、技术咨询、技术服务、教育咨询（中介服务除外）；会议服务。企业依法自主选择经营项目，开展经营活动；依法须经批准的项目，经相关部门批准后依批准的内容开展经营活动；不得从事本市产业政策禁止和限制类项目的经营活动。\", \"before\": \"劳务派遣（劳务派遣经营许可证有效期至2019年10月26日）。技术开发、技术推广、技术转让、技术咨询、技术服务、教育咨询（中介服务除外）。企业依法自主选择经营项目，开展经营活动；依法须经批准的项目，经相关部门批准后依批准的内容开展经营活动；不得从事本市产业政策禁止和限制类项目的经营活动。\"}, {\"time\": \"2016-11-24\", \"type\": \"经营范围\", \"after\": \"劳务派遣（劳务派遣经营许可证有效期至2019年10月26日）。技术开发、技术推广、技术转让、技术咨询、技术服务、教育咨询（中介服务除外）。企业依法自主选择经营项目，开展经营活动；依法须经批准的项目，经相关部门批准后依批准的内容开展经营活动；不得从事本市产业政策禁止和限制类项目的经营活动。\", \"before\": \"人才中介服务。技术开发、技术推广、技术转让、技术咨询、技术服务、教育咨询（中介服务除外）。企业依法自主选择经营项目，开展经营活动；人才中介服务以及依法须经批准的项目，经相关部门批准后依批准的内容开展经营活动；不得从事本市产业政策禁止和限制类项目的经营活动。\"}, {\"time\": \"2016-10-27\", \"type\": \"投资人\", \"after\": \"1 兰助晴 自然人股东2 京蒙青创（北京）信息技术有限公司 企业法人3 李龑 自然人股东\", \"before\": \"1 兰助晴 自然人股东2 王新河 自然人股东3 京蒙青创（北京）信息技术有限公司 企业法人4 李龑 自然人股东\"}, {\"time\": \"2016-05-09\", \"type\": \"经营范围\", \"after\": \"人才中介服务。技术开发、技术推广、技术转让、技术咨询、技术服务、教育咨询（中介服务除外）。企业依法自主选择经营项目，开展经营活动；人才中介服务以及依法须经批准的项目，经相关部门批准后依批准的内容开展经营活动；不得从事本市产业政策禁止和限制类项目的经营活动。\", \"before\": \"技术开发、技术推广、技术转让、技术咨询、技术服务。依法须经批准的项目，经相关部门批准后依批准的内容开展经营活动。\"}, {\"time\": \"2015-12-16\", \"type\": \"投资人\", \"after\": \"变更后1 兰助晴 自然人股东2 京蒙青创（北京）信息技术有限公司 企业法人3 李龑 自然人股东\", \"before\": \"变更前1 兰助晴 自然人股东2 王新河 自然人股东3 京蒙青创（北京）信息技术有限公司 企业法人4 李龑 自然人股东\"}]'"
      ]
     },
     "execution_count": 59,
     "metadata": {},
     "output_type": "execute_result"
    }
   ],
   "source": [
    "a[14][7]"
   ]
  },
  {
   "cell_type": "code",
   "execution_count": null,
   "metadata": {},
   "outputs": [],
   "source": [
    "clist=[]\n",
    "for i in range(len(a)):\n",
    "    #print(i)\n",
    "    dic=json.loads(a[i][7])\n",
    "    for d in dic:\n",
    "        if d[\"type\"]==\"注册资本\":\n",
    "            print(i)\n",
    "            if re.search('\\d+',d[\"before\"]):\n",
    "                m1=float(re.search('\\d+',d[\"before\"]).group())\n",
    "            else:\n",
    "                m1=0\n",
    "            if re.search('\\d+',d[\"after\"]):\n",
    "                m2=float(re.search('\\d+',d[\"after\"]).group())\n",
    "            else:\n",
    "                m2=0\n",
    "            time2=int(d[\"time\"][:4])\n",
    "            time1=int(a[i][3][:4])\n",
    "            if time2>time1:\n",
    "                ch=(m2-m1)/(time2-time1)\n",
    "                clist.append(list(a[i][:-1])+[ch])\n",
    "                print(list(a[i][:-1])+[ch])\n",
    "                break"
   ]
  },
  {
   "cell_type": "code",
   "execution_count": 79,
   "metadata": {
    "collapsed": true
   },
   "outputs": [],
   "source": [
    "cj=json.dumps(clist,ensure_ascii=False)\n",
    "with open('AnaInv.json','w',encoding='utf8') as f:\n",
    "    f.write(cj)"
   ]
  },
  {
   "cell_type": "code",
   "execution_count": null,
   "metadata": {
    "collapsed": true
   },
   "outputs": [],
   "source": []
  }
 ],
 "metadata": {
  "kernelspec": {
   "display_name": "Python 3",
   "language": "python",
   "name": "python3"
  },
  "language_info": {
   "codemirror_mode": {
    "name": "ipython",
    "version": 3
   },
   "file_extension": ".py",
   "mimetype": "text/x-python",
   "name": "python",
   "nbconvert_exporter": "python",
   "pygments_lexer": "ipython3",
   "version": "3.5.2"
  }
 },
 "nbformat": 4,
 "nbformat_minor": 2
}
