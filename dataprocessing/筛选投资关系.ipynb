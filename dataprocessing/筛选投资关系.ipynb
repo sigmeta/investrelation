{
 "cells": [
  {
   "cell_type": "code",
   "execution_count": 66,
   "metadata": {
    "collapsed": true
   },
   "outputs": [],
   "source": [
    "import pandas as pd\n",
    "import requests\n",
    "from bs4 import BeautifulSoup as BS\n",
    "import jieba\n",
    "import pymysql\n",
    "import re"
   ]
  },
  {
   "cell_type": "code",
   "execution_count": 3,
   "metadata": {},
   "outputs": [],
   "source": [
    "df=pd.read_csv('中国地区代码表.csv',encoding='gbk')"
   ]
  },
  {
   "cell_type": "code",
   "execution_count": 23,
   "metadata": {},
   "outputs": [],
   "source": [
    "plist=[]\n",
    "for i in range(len(df)):\n",
    "    plist.append(df.loc[i,'名称'].split('--')[-1])"
   ]
  },
  {
   "cell_type": "code",
   "execution_count": 24,
   "metadata": {},
   "outputs": [],
   "source": [
    "plist=sorted(list(set(plist)))\n",
    "plist2=[]\n",
    "for p in plist:\n",
    "    if len(p)>2:\n",
    "        plist2.append(p[:-1])\n",
    "plist+=plist2\n",
    "plist=sorted(list(set(plist)))\n",
    "plist=plist[8:]"
   ]
  },
  {
   "cell_type": "code",
   "execution_count": 34,
   "metadata": {},
   "outputs": [],
   "source": [
    "#获取百度百科行业类别表\n",
    "headers = {\n",
    "    'Connection': 'close',\n",
    "    'User-Agent': 'Mozilla/5.0 (Windows NT 10.0; Win64; x64) AppleWebKit/537.36 (KHTML, like Gecko) Chrome/61.0.3163.100 Safari/537.36'\n",
    "}\n",
    "res=requests.get(\"https://baike.baidu.com/item/%E5%9B%BD%E6%B0%91%E7%BB%8F%E6%B5%8E%E8%A1%8C%E4%B8%9A%E5%88%86%E7%B1%BB/1640176?fr=aladdin\",headers=headers)\n",
    "res.encoding='utf8'\n",
    "soup=BS(res.text,'lxml')"
   ]
  },
  {
   "cell_type": "code",
   "execution_count": 43,
   "metadata": {},
   "outputs": [],
   "source": [
    "dflb=pd.DataFrame(columns=['门类','大类','中类','小类','类别名称'])\n",
    "n=0\n",
    "col=['门类','大类','中类','小类','类别名称']\n",
    "for tr in soup.table.find_all('tr')[2:]:\n",
    "    tds=tr.find_all('td')\n",
    "    for i in range(5):\n",
    "        dflb.loc[n,col[i]]=tds[i].text.strip()\n",
    "    n+=1"
   ]
  },
  {
   "cell_type": "code",
   "execution_count": 46,
   "metadata": {},
   "outputs": [],
   "source": [
    "dflb.to_csv('行业分类.csv',index=False)"
   ]
  },
  {
   "cell_type": "code",
   "execution_count": 48,
   "metadata": {},
   "outputs": [
    {
     "name": "stderr",
     "output_type": "stream",
     "text": [
      "Building prefix dict from the default dictionary ...\n",
      "Loading model from cache C:\\Users\\sigmeta\\AppData\\Local\\Temp\\jieba.cache\n",
      "Loading model cost 0.924 seconds.\n",
      "Prefix dict has been built succesfully.\n"
     ]
    }
   ],
   "source": [
    "llist=dflb.loc[:,'类别名称'].tolist()\n",
    "lbc=[]\n",
    "for l in llist:\n",
    "    lbc+=jieba.lcut(l)\n",
    "lbc=sorted(list(set(lbc)))"
   ]
  },
  {
   "cell_type": "code",
   "execution_count": 50,
   "metadata": {},
   "outputs": [],
   "source": [
    "lb=[]\n",
    "for i in lbc:\n",
    "    if len(i)>1:\n",
    "        lb.append(i)"
   ]
  },
  {
   "cell_type": "code",
   "execution_count": 78,
   "metadata": {},
   "outputs": [],
   "source": [
    "stopwords=plist+lb+['公司','有限公司','集团','集团股份','股份','总公司','控股','实业','有限责任','检测']"
   ]
  },
  {
   "cell_type": "code",
   "execution_count": 54,
   "metadata": {
    "collapsed": true
   },
   "outputs": [],
   "source": [
    "#连接数据库\n",
    "conn = pymysql.connect('localhost','root','9432','companyb',charset='utf8')\n",
    "cursor=conn.cursor()"
   ]
  },
  {
   "cell_type": "code",
   "execution_count": 55,
   "metadata": {
    "collapsed": true
   },
   "outputs": [],
   "source": [
    "cursor.execute(\"select * from com_inv\")\n",
    "a=cursor.fetchall()"
   ]
  },
  {
   "cell_type": "code",
   "execution_count": 74,
   "metadata": {},
   "outputs": [
    {
     "data": {
      "text/plain": [
       "['七台河市', '东方', '博达', '产业', '投资', '发展', '有限责任', '公司']"
      ]
     },
     "execution_count": 74,
     "metadata": {},
     "output_type": "execute_result"
    }
   ],
   "source": [
    "jieba.lcut('七台河市东方博达产业投资发展有限责任公司')"
   ]
  },
  {
   "cell_type": "code",
   "execution_count": 79,
   "metadata": {
    "scrolled": true
   },
   "outputs": [
    {
     "name": "stdout",
     "output_type": "stream",
     "text": [
      "True 万合集团邯郸华骏汽车检测有限公司 邯郸市复兴区欣驰汽车维护有限公司\n",
      "True 万合集团邯郸华骏汽车检测有限公司 邯郸市安骏机动车检测有限公司\n",
      "False 万合集团邯郸天润房地产开发有限公司 五指山万合房地产开发有限公司\n",
      "False 万合集团邯郸天润房地产开发有限公司 五指山万合房地产开发有限公司\n",
      "False 万合集团邯郸天润房地产开发有限公司 河北万合汽车贸易股份有限公司\n",
      "False 万向三农集团有限公司 万向德农股份有限公司\n",
      "True 万向三农集团有限公司 德华集团控股股份有限公司\n",
      "False 万向三农集团有限公司 北京万向德农肥业有限公司\n",
      "True 万向三农集团有限公司 杭州品向位食品有限公司\n",
      "False 万向三农集团有限公司 万向财务有限公司\n",
      "True 万向三农集团有限公司 浙江网商银行股份有限公司\n",
      "True 万向三农集团有限公司 浙江省远洋渔业集团有限公司\n",
      "True 万向三农集团有限公司 万事利集团有限公司\n",
      "True 万向三农集团有限公司 杭州万事利丝绸文化股份有限公司\n",
      "True 万向三农集团有限公司 浙江大洋世家股份有限公司\n",
      "True 万向信托有限公司 浙江另类资产管理有限公司\n",
      "True 万向信托有限公司 浙信投资（浙江）有限公司\n",
      "True 万向信托有限公司 深圳市华美达一号投资中心（有限合伙）\n",
      "True 万向信托有限公司 济南中建泉慧投资运营有限公司\n",
      "True 万向信托有限公司 海宁向鼎影视传媒有限公司\n",
      "True 万向信托有限公司 广东公明资产管理股份有限公司\n",
      "True 万向信托有限公司 浙江农科种业有限公司\n",
      "True 万向信托有限公司 深圳市汇盛投资合伙企业（有限合伙）\n",
      "True 万向信托有限公司 共青城杰之行投资中心（有限合伙）\n",
      "True 万向信托有限公司 宁波嘉业汇投资管理有限公司\n",
      "True 万向创业投资股份有限公司 浙江联强数控机床股份有限公司\n",
      "True 万向创业投资股份有限公司 浙江京昌电子股份有限公司\n",
      "True 万向创业投资股份有限公司 浙江力宝高新建材股份有限公司\n",
      "True 万向创业投资股份有限公司 北京新意互动广告有限公司\n",
      "True 万向创业投资股份有限公司 杭州先临三维科技股份有限公司\n",
      "True 万向创业投资股份有限公司 北京北纬通信科技股份有限公司\n",
      "True 万向创业投资股份有限公司 深圳市贝特瑞新能源材料股份有限公司\n",
      "True 万向创业投资股份有限公司 浙江产权交易所有限公司\n",
      "True 万向创业投资股份有限公司 无锡华云数据技术服务有限公司\n",
      "True 万向创业投资股份有限公司 浙江尖山光电有限公司\n",
      "True 万向思维国际图书有限公司 北京恒源信达投资合伙企业（有限合伙）\n",
      "True 万向思维国际图书有限公司 青岛蓝贝青苹果创业管理合伙企业（有限合伙）\n",
      "False 万向思维国际图书有限公司 西安万向思维图书有限公司\n",
      "False 万向资源有限公司 上海万向投资有限公司\n",
      "False 万向资源有限公司 万向资源（舟山）有限公司\n",
      "False 万向资源有限公司 万向石油储运（舟山）有限公司\n",
      "True 万向资源有限公司 万贺融通有限公司\n",
      "True 万向资源有限公司 浙江大鼎贸易有限公司\n",
      "True 万向资源有限公司 顺发恒业股份公司\n",
      "True 万向资源有限公司 上海东展船运股份公司\n",
      "True 万向资源有限公司 红河恒昊矿业股份有限公司\n",
      "True 万向资源有限公司 上海黄金交易所\n",
      "True 万向通达股份公司 广州市惠达汽车零部件有限公司\n",
      "False 万向通达股份公司 湖北通达实业有限公司\n",
      "False 万向通达股份公司 武汉通达伟业经济发展有限公司\n",
      "True 万向通达股份公司 十堰固诺尔汽车油箱有限公司\n",
      "False 万向通达股份公司 海口通达排气系统有限公司\n",
      "True 万向通达股份公司 武汉巨迪金属管业有限公司\n",
      "False 万向通达股份公司 武汉佛吉亚通达排气系统有限公司\n",
      "True 万向通达股份公司 湖北迪耐\n",
      "False 万向通达股份公司 湖北迪耐斯通达排放处理系统有限公司\n",
      "False 万向钱潮股份有限公司 万向钱潮（上海）汽车系统有限公司\n",
      "False 万向钱潮股份有限公司 万向钱潮重庆汽车部件有限公司\n",
      "False 万向钱潮股份有限公司 合肥万向钱潮汽车零部件有限公司\n",
      "False 万向钱潮股份有限公司 钱潮轴承有限公司\n",
      "False 万向钱潮股份有限公司 浙江万向系统有限公司\n",
      "False 万向钱潮股份有限公司 浙江万向精工有限公司\n",
      "False 万向钱潮股份有限公司 萧山万向舍勒精密万向节有限公司\n",
      "False 万向钱潮股份有限公司 江西万向昌河汽车底盘系统有限公司\n",
      "False 万向钱潮股份有限公司 许昌钱潮远东汽车部件有限公司\n",
      "True 万向钱潮股份有限公司 江苏森威精锻有限公司\n",
      "True 万向集团公司 万向资源有限公司\n",
      "True 万向集团公司 浙江万向研究院有限公司\n",
      "True 万向集团公司 浙江普通服务市场有限公司\n",
      "True 万向集团公司 吉林新立德部件有限公司\n",
      "True 万向集团公司 万向进出口有限公司\n",
      "True 万向集团公司 杭州兴亚物业管理有限公司\n",
      "True 万向集团公司 上海万向进出口有限公司\n",
      "True 万向集团公司 杭州市临安人长久食品有限公司\n",
      "True 万向集团公司 上汽万向新能源客车有限公司\n",
      "True 万向集团公司 上海凌宇汽车电子商务有限公司\n",
      "True 万呈邯郸置业有限公司 邯郸市滨河房地产开发有限公司\n",
      "False 万和紫荆实业有限公司 上海万和紫荆置业有限公司\n",
      "False 万和紫荆实业有限公司 沛县万和紫荆置业有限公司\n",
      "False 万和紫荆实业有限公司 徐州万和紫荆商业管理有限公司\n",
      "False 万和紫荆实业有限公司 银泰紫荆发展有限公司\n",
      "True 万和紫荆实业有限公司 北京集优诚品生态农业科技有限公司\n",
      "True 万和紫荆实业有限公司 霍尔果斯中盛兴源企业管理咨询有限公司\n",
      "False 万和置业有限公司 沈阳万和顺景房地产开发有限公司\n",
      "True 万唐实业发展有限公司 千枝百卉科技（大连）有限公司\n",
      "True 万唐实业发展有限公司 宝航科技发展（大连）有限公司\n",
      "True 万唐实业发展有限公司 杭州宝航食品有限公司\n",
      "True 万唐实业发展有限公司 吉林省万唐瑞达超市服务有限公司\n",
      "True 万商控股集团有限公司 浙江海邦电器有限公司\n",
      "True 万商控股集团有限公司 浙江万众商贸有限公司\n",
      "True 万商控股集团有限公司 浙江福临旺家新能源有限公司\n",
      "True 万商控股集团有限公司 浙江福临旺家装饰材料有限公司\n",
      "True 万商控股集团有限公司 江山福临旺家物流有限公司\n",
      "True 万商控股集团有限公司 江山福临旺家广告传媒有限公司\n",
      "True 万商控股集团有限公司 衢州市太和动感广告传媒有限公司\n",
      "True 万商控股集团有限公司 浙江万商家居股份有限公司\n",
      "True 万善众力科技有限公司 广州美饰汇科技有限公司\n",
      "True 万嘉旅游开发有限公司 舟山三林物业管理有限公司\n",
      "True 万嘉旅游开发有限公司 浙江宏建贸易有限公司\n",
      "True 万嘉集团有限公司 金华万润物业管理有限公司\n"
     ]
    }
   ],
   "source": [
    "for i in range(600,700):\n",
    "    tag=True\n",
    "    s1=re.sub('（.*）','',a[i][0]);s2=a[i][1]\n",
    "    c1=jieba.lcut(s1)\n",
    "    c2=jieba.lcut(s2)\n",
    "    count=0\n",
    "    countn=0\n",
    "    for c in c1[:]:\n",
    "        if c not in stopwords and c in c2:\n",
    "            tag=False\n",
    "            break\n",
    "    print(tag,s1,s2)"
   ]
  },
  {
   "cell_type": "code",
   "execution_count": null,
   "metadata": {},
   "outputs": [],
   "source": [
    "for i in range(len(a)):\n",
    "    tag=True\n",
    "    s1=re.sub('（.*）','',a[i][0]);s2=a[i][1]\n",
    "    c1=jieba.lcut(s1)\n",
    "    c2=jieba.lcut(s2)\n",
    "    count=0\n",
    "    countn=0\n",
    "    for c in c1[:]:\n",
    "        if c not in stopwords and c in c2:\n",
    "            tag=False\n",
    "            break\n",
    "    if tag:\n",
    "        try:\n",
    "            cursor.execute(\"insert into com_inv_1 values ('%s', '%s', '%s', '%s', '%s');\"%a[i])\n",
    "        except Exception as e:\n",
    "            print(e)  \n",
    "    else:\n",
    "        print('xx',a[i])\n",
    "    if i%1000==0:\n",
    "        conn.commit()\n",
    "conn.commit()"
   ]
  },
  {
   "cell_type": "code",
   "execution_count": null,
   "metadata": {
    "collapsed": true
   },
   "outputs": [],
   "source": []
  }
 ],
 "metadata": {
  "kernelspec": {
   "display_name": "Python 3",
   "language": "python",
   "name": "python3"
  },
  "language_info": {
   "codemirror_mode": {
    "name": "ipython",
    "version": 3
   },
   "file_extension": ".py",
   "mimetype": "text/x-python",
   "name": "python",
   "nbconvert_exporter": "python",
   "pygments_lexer": "ipython3",
   "version": "3.5.2"
  }
 },
 "nbformat": 4,
 "nbformat_minor": 2
}
