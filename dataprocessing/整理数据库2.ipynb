{
 "cells": [
  {
   "cell_type": "code",
   "execution_count": 21,
   "metadata": {
    "collapsed": true
   },
   "outputs": [],
   "source": [
    "import pymysql\n",
    "import pandas as df\n",
    "import json\n",
    "import re\n",
    "import jieba\n",
    "import warnings\n",
    "warnings.filterwarnings('ignore')"
   ]
  },
  {
   "cell_type": "code",
   "execution_count": 19,
   "metadata": {
    "collapsed": true
   },
   "outputs": [],
   "source": [
    "#连接数据库\n",
    "conn = pymysql.connect('localhost','root','9432','companyb',charset='utf8')\n",
    "cursor=conn.cursor()"
   ]
  },
  {
   "cell_type": "code",
   "execution_count": 3,
   "metadata": {
    "collapsed": true
   },
   "outputs": [],
   "source": [
    "cursor.execute(\"select company,主要人员,股东信息 from companya\")\n",
    "a=cursor.fetchall()"
   ]
  },
  {
   "cell_type": "code",
   "execution_count": 6,
   "metadata": {},
   "outputs": [
    {
     "data": {
      "text/plain": [
       "('IDG资本投资顾问（北京）有限公司',\n",
       " '董事：周全;董事：李建光;董事：过以宏;董事长：熊晓鸽 （SHONG HUGO）',\n",
       " '非自然人,IDG 资本管理（香港）有限公司,,')"
      ]
     },
     "execution_count": 6,
     "metadata": {},
     "output_type": "execute_result"
    }
   ],
   "source": [
    "a[30]"
   ]
  },
  {
   "cell_type": "code",
   "execution_count": null,
   "metadata": {
    "scrolled": true
   },
   "outputs": [],
   "source": [
    "for i in range(len(a)):\n",
    "    print('\\r'+str(i),end='')\n",
    "    ry=[];gd=[]\n",
    "    try:\n",
    "        if a[i][1]!='':\n",
    "            for r in a[i][1].split(';'):\n",
    "                ry.append({\"post\":r.split('：')[0],\"name\":r.split('：')[1]})\n",
    "        if a[i][2]!='':\n",
    "            for g in a[i][2].split(';'):\n",
    "                gd.append({\"type\":g.split(',')[0],\"name\":g.split(',')[1]})\n",
    "    except Exception as e:\n",
    "        print(e)      \n",
    "    try:\n",
    "        cursor.execute(\"insert ignore into companyj values ('%s','%s','%s');\"%(a[i][0],json.dumps(ry,ensure_ascii=False),json.dumps(gd,ensure_ascii=False)))\n",
    "    except Exception as e:\n",
    "        print(e)\n",
    "    if i%1000==0:\n",
    "        conn.commit()\n",
    "conn.commit()"
   ]
  },
  {
   "cell_type": "code",
   "execution_count": null,
   "metadata": {
    "collapsed": true
   },
   "outputs": [],
   "source": []
  }
 ],
 "metadata": {
  "kernelspec": {
   "display_name": "Python 3",
   "language": "python",
   "name": "python3"
  },
  "language_info": {
   "codemirror_mode": {
    "name": "ipython",
    "version": 3
   },
   "file_extension": ".py",
   "mimetype": "text/x-python",
   "name": "python",
   "nbconvert_exporter": "python",
   "pygments_lexer": "ipython3",
   "version": "3.5.2"
  }
 },
 "nbformat": 4,
 "nbformat_minor": 2
}
